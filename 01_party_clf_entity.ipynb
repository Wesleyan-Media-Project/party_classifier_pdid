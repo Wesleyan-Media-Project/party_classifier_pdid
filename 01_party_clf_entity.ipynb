{
 "cells": [
  {
   "cell_type": "markdown",
   "metadata": {
    "id": "09Pn6jK9Xwmj"
   },
   "source": [
    "### party_clf_entity training on 1.18m dataset"
   ]
  },
  {
   "cell_type": "code",
   "execution_count": null,
   "metadata": {
    "colab": {
     "background_save": true
    },
    "id": "7Yj7ZeMxGs-2",
    "outputId": "cf5e08b1-31c8-46bb-85df-c5d03d26967f"
   },
   "outputs": [
    {
     "name": "stdout",
     "output_type": "stream",
     "text": [
      "/content/drive/MyDrive/lab_work/party_all_classifier/code\n"
     ]
    }
   ],
   "source": [
    "cd /content/drive/MyDrive/lab_work/party_all_classifier/code"
   ]
  },
  {
   "cell_type": "code",
   "execution_count": null,
   "metadata": {
    "colab": {
     "background_save": true
    },
    "id": "B6iWSITmYNQz"
   },
   "outputs": [],
   "source": [
    "import sklearn.model_selection as ms\n",
    "from sklearn.pipeline import Pipeline\n",
    "from sklearn import metrics\n",
    "from sklearn.feature_extraction.text import CountVectorizer\n",
    "from sklearn.feature_extraction.text import TfidfVectorizer\n",
    "from sklearn.feature_extraction.text import TfidfTransformer\n",
    "from sklearn.model_selection import GridSearchCV\n",
    "import pandas as pd\n",
    "import numpy as np"
   ]
  },
  {
   "cell_type": "code",
   "execution_count": null,
   "metadata": {
    "colab": {
     "background_save": true
    },
    "id": "hmHIW5rNXwOW"
   },
   "outputs": [],
   "source": [
    "d = pd.read_csv('/content/drive/Shareddrives/Delta Lab/Data/facebook_2020/archive/fb_2020_adid_02282022.csv',\n",
    "                usecols = ['ad_id', 'pd_id', 'page_id','disclaimer', 'ad_combined_text'])"
   ]
  },
  {
   "cell_type": "code",
   "execution_count": null,
   "metadata": {
    "colab": {
     "background_save": true
    },
    "id": "Mv_WARqtjnFy",
    "outputId": "5d2b8a1a-ea4e-4c6f-d0be-026bfbaa2e75"
   },
   "outputs": [
    {
     "data": {
      "text/plain": [
       "(1182385, 5)"
      ]
     },
     "execution_count": null,
     "metadata": {},
     "output_type": "execute_result"
    }
   ],
   "source": [
    "d.shape"
   ]
  },
  {
   "cell_type": "code",
   "execution_count": null,
   "metadata": {
    "colab": {
     "background_save": true
    },
    "id": "I_i7sv-X-VGy",
    "outputId": "980c76ea-3ae7-422b-bd8c-b22d56b8d45a"
   },
   "outputs": [
    {
     "data": {
      "text/html": [
       "\n",
       "  <div id=\"df-57db269e-5258-4921-9d8f-c1ece6f45d43\">\n",
       "    <div class=\"colab-df-container\">\n",
       "      <div>\n",
       "<style scoped>\n",
       "    .dataframe tbody tr th:only-of-type {\n",
       "        vertical-align: middle;\n",
       "    }\n",
       "\n",
       "    .dataframe tbody tr th {\n",
       "        vertical-align: top;\n",
       "    }\n",
       "\n",
       "    .dataframe thead th {\n",
       "        text-align: right;\n",
       "    }\n",
       "</style>\n",
       "<table border=\"1\" class=\"dataframe\">\n",
       "  <thead>\n",
       "    <tr style=\"text-align: right;\">\n",
       "      <th></th>\n",
       "      <th>ad_id</th>\n",
       "      <th>pd_id</th>\n",
       "      <th>page_id</th>\n",
       "      <th>disclaimer</th>\n",
       "      <th>ad_combined_text</th>\n",
       "    </tr>\n",
       "  </thead>\n",
       "  <tbody>\n",
       "    <tr>\n",
       "      <th>0</th>\n",
       "      <td>x2461917247435095</td>\n",
       "      <td>pd-540707072979860-3</td>\n",
       "      <td>540707072979860</td>\n",
       "      <td>MARYOTT FOR CONGRESS</td>\n",
       "      <td>The race in CA-49 is down to the wire. Congres...</td>\n",
       "    </tr>\n",
       "    <tr>\n",
       "      <th>1</th>\n",
       "      <td>x2787243378200248</td>\n",
       "      <td>pd-1754372481245454-2</td>\n",
       "      <td>1754372481245454</td>\n",
       "      <td>Friends of Tara Zrinski</td>\n",
       "      <td>💜 Tara Zrinski is supported by Republicans and...</td>\n",
       "    </tr>\n",
       "    <tr>\n",
       "      <th>2</th>\n",
       "      <td>x323896925519508</td>\n",
       "      <td>pd-1594170604242427-3</td>\n",
       "      <td>1594170604242427</td>\n",
       "      <td>Hans D Hochheimer</td>\n",
       "      <td>This is a great video which everybody should w...</td>\n",
       "    </tr>\n",
       "    <tr>\n",
       "      <th>3</th>\n",
       "      <td>x2798640176905866</td>\n",
       "      <td>pd-1676291615740480-7</td>\n",
       "      <td>1676291615740480</td>\n",
       "      <td>Homeowners and Tenants United</td>\n",
       "      <td>A billionaire Trump donor is spending millions...</td>\n",
       "    </tr>\n",
       "    <tr>\n",
       "      <th>4</th>\n",
       "      <td>x426761618289494</td>\n",
       "      <td>pd-456262374764387-3</td>\n",
       "      <td>456262374764387</td>\n",
       "      <td>Voters Not Politicians</td>\n",
       "      <td>Rep. Ryan Berman is blocking legislation that ...</td>\n",
       "    </tr>\n",
       "  </tbody>\n",
       "</table>\n",
       "</div>\n",
       "      <button class=\"colab-df-convert\" onclick=\"convertToInteractive('df-57db269e-5258-4921-9d8f-c1ece6f45d43')\"\n",
       "              title=\"Convert this dataframe to an interactive table.\"\n",
       "              style=\"display:none;\">\n",
       "        \n",
       "  <svg xmlns=\"http://www.w3.org/2000/svg\" height=\"24px\"viewBox=\"0 0 24 24\"\n",
       "       width=\"24px\">\n",
       "    <path d=\"M0 0h24v24H0V0z\" fill=\"none\"/>\n",
       "    <path d=\"M18.56 5.44l.94 2.06.94-2.06 2.06-.94-2.06-.94-.94-2.06-.94 2.06-2.06.94zm-11 1L8.5 8.5l.94-2.06 2.06-.94-2.06-.94L8.5 2.5l-.94 2.06-2.06.94zm10 10l.94 2.06.94-2.06 2.06-.94-2.06-.94-.94-2.06-.94 2.06-2.06.94z\"/><path d=\"M17.41 7.96l-1.37-1.37c-.4-.4-.92-.59-1.43-.59-.52 0-1.04.2-1.43.59L10.3 9.45l-7.72 7.72c-.78.78-.78 2.05 0 2.83L4 21.41c.39.39.9.59 1.41.59.51 0 1.02-.2 1.41-.59l7.78-7.78 2.81-2.81c.8-.78.8-2.07 0-2.86zM5.41 20L4 18.59l7.72-7.72 1.47 1.35L5.41 20z\"/>\n",
       "  </svg>\n",
       "      </button>\n",
       "      \n",
       "  <style>\n",
       "    .colab-df-container {\n",
       "      display:flex;\n",
       "      flex-wrap:wrap;\n",
       "      gap: 12px;\n",
       "    }\n",
       "\n",
       "    .colab-df-convert {\n",
       "      background-color: #E8F0FE;\n",
       "      border: none;\n",
       "      border-radius: 50%;\n",
       "      cursor: pointer;\n",
       "      display: none;\n",
       "      fill: #1967D2;\n",
       "      height: 32px;\n",
       "      padding: 0 0 0 0;\n",
       "      width: 32px;\n",
       "    }\n",
       "\n",
       "    .colab-df-convert:hover {\n",
       "      background-color: #E2EBFA;\n",
       "      box-shadow: 0px 1px 2px rgba(60, 64, 67, 0.3), 0px 1px 3px 1px rgba(60, 64, 67, 0.15);\n",
       "      fill: #174EA6;\n",
       "    }\n",
       "\n",
       "    [theme=dark] .colab-df-convert {\n",
       "      background-color: #3B4455;\n",
       "      fill: #D2E3FC;\n",
       "    }\n",
       "\n",
       "    [theme=dark] .colab-df-convert:hover {\n",
       "      background-color: #434B5C;\n",
       "      box-shadow: 0px 1px 3px 1px rgba(0, 0, 0, 0.15);\n",
       "      filter: drop-shadow(0px 1px 2px rgba(0, 0, 0, 0.3));\n",
       "      fill: #FFFFFF;\n",
       "    }\n",
       "  </style>\n",
       "\n",
       "      <script>\n",
       "        const buttonEl =\n",
       "          document.querySelector('#df-57db269e-5258-4921-9d8f-c1ece6f45d43 button.colab-df-convert');\n",
       "        buttonEl.style.display =\n",
       "          google.colab.kernel.accessAllowed ? 'block' : 'none';\n",
       "\n",
       "        async function convertToInteractive(key) {\n",
       "          const element = document.querySelector('#df-57db269e-5258-4921-9d8f-c1ece6f45d43');\n",
       "          const dataTable =\n",
       "            await google.colab.kernel.invokeFunction('convertToInteractive',\n",
       "                                                     [key], {});\n",
       "          if (!dataTable) return;\n",
       "\n",
       "          const docLinkHtml = 'Like what you see? Visit the ' +\n",
       "            '<a target=\"_blank\" href=https://colab.research.google.com/notebooks/data_table.ipynb>data table notebook</a>'\n",
       "            + ' to learn more about interactive tables.';\n",
       "          element.innerHTML = '';\n",
       "          dataTable['output_type'] = 'display_data';\n",
       "          await google.colab.output.renderOutput(dataTable, element);\n",
       "          const docLink = document.createElement('div');\n",
       "          docLink.innerHTML = docLinkHtml;\n",
       "          element.appendChild(docLink);\n",
       "        }\n",
       "      </script>\n",
       "    </div>\n",
       "  </div>\n",
       "  "
      ],
      "text/plain": [
       "               ad_id                  pd_id           page_id  \\\n",
       "0  x2461917247435095   pd-540707072979860-3   540707072979860   \n",
       "1  x2787243378200248  pd-1754372481245454-2  1754372481245454   \n",
       "2   x323896925519508  pd-1594170604242427-3  1594170604242427   \n",
       "3  x2798640176905866  pd-1676291615740480-7  1676291615740480   \n",
       "4   x426761618289494   pd-456262374764387-3   456262374764387   \n",
       "\n",
       "                      disclaimer  \\\n",
       "0           MARYOTT FOR CONGRESS   \n",
       "1        Friends of Tara Zrinski   \n",
       "2              Hans D Hochheimer   \n",
       "3  Homeowners and Tenants United   \n",
       "4         Voters Not Politicians   \n",
       "\n",
       "                                    ad_combined_text  \n",
       "0  The race in CA-49 is down to the wire. Congres...  \n",
       "1  💜 Tara Zrinski is supported by Republicans and...  \n",
       "2  This is a great video which everybody should w...  \n",
       "3  A billionaire Trump donor is spending millions...  \n",
       "4  Rep. Ryan Berman is blocking legislation that ...  "
      ]
     },
     "execution_count": null,
     "metadata": {},
     "output_type": "execute_result"
    }
   ],
   "source": [
    "d.head()"
   ]
  },
  {
   "cell_type": "markdown",
   "metadata": {
    "id": "3a6OzXdN9vGD"
   },
   "source": [
    "#### Deal with four missing pd ids"
   ]
  },
  {
   "cell_type": "code",
   "execution_count": null,
   "metadata": {
    "colab": {
     "background_save": true
    },
    "id": "_M8FXiO_VtWg",
    "outputId": "5bdb75de-f357-4e9b-aa57-1b35dfb8eb64"
   },
   "outputs": [
    {
     "data": {
      "text/plain": [
       "249"
      ]
     },
     "execution_count": null,
     "metadata": {},
     "output_type": "execute_result"
    }
   ],
   "source": [
    "len(d.loc[d['pd_id'].isna()])"
   ]
  },
  {
   "cell_type": "code",
   "execution_count": null,
   "metadata": {
    "colab": {
     "background_save": true
    },
    "id": "E9CHBDNijT_L",
    "outputId": "2e046c95-486d-4998-ab3b-a33d7939e879"
   },
   "outputs": [
    {
     "data": {
      "text/plain": [
       "array([103091551376724, 127913103970095, 111718570352005, 100874024777082])"
      ]
     },
     "execution_count": null,
     "metadata": {},
     "output_type": "execute_result"
    }
   ],
   "source": [
    "d.loc[d['pd_id'].isna()].page_id.unique()"
   ]
  },
  {
   "cell_type": "code",
   "execution_count": null,
   "metadata": {
    "colab": {
     "background_save": true
    },
    "id": "RvBODPl3ijuq"
   },
   "outputs": [],
   "source": [
    "# Using Pavel's file to fix the missings\n",
    "fix = pd.read_csv(\"/content/drive/Shareddrives/Delta Lab/Data/facebook_2020/raw/fix_pdid.csv\")"
   ]
  },
  {
   "cell_type": "code",
   "execution_count": null,
   "metadata": {
    "colab": {
     "background_save": true
    },
    "id": "6cxkR2gWJHd7",
    "outputId": "048268ab-33f5-47c7-e177-9939ae1d624e"
   },
   "outputs": [
    {
     "data": {
      "text/html": [
       "\n",
       "  <div id=\"df-ce075769-246b-4cce-bc87-1295df673595\">\n",
       "    <div class=\"colab-df-container\">\n",
       "      <div>\n",
       "<style scoped>\n",
       "    .dataframe tbody tr th:only-of-type {\n",
       "        vertical-align: middle;\n",
       "    }\n",
       "\n",
       "    .dataframe tbody tr th {\n",
       "        vertical-align: top;\n",
       "    }\n",
       "\n",
       "    .dataframe thead th {\n",
       "        text-align: right;\n",
       "    }\n",
       "</style>\n",
       "<table border=\"1\" class=\"dataframe\">\n",
       "  <thead>\n",
       "    <tr style=\"text-align: right;\">\n",
       "      <th></th>\n",
       "      <th>page_id</th>\n",
       "      <th>disclaimer</th>\n",
       "      <th>pd_id</th>\n",
       "      <th>op_num</th>\n",
       "    </tr>\n",
       "  </thead>\n",
       "  <tbody>\n",
       "    <tr>\n",
       "      <th>0</th>\n",
       "      <td>100874024777082</td>\n",
       "      <td>John Jack Ducharme for House District 111</td>\n",
       "      <td>1</td>\n",
       "      <td>1908</td>\n",
       "    </tr>\n",
       "    <tr>\n",
       "      <th>1</th>\n",
       "      <td>100874024777082</td>\n",
       "      <td>John \"Jack\" Ducharme for House District 111</td>\n",
       "      <td>2</td>\n",
       "      <td>2601</td>\n",
       "    </tr>\n",
       "    <tr>\n",
       "      <th>2</th>\n",
       "      <td>100874024777082</td>\n",
       "      <td>John \\\"Jack\\\" Ducharme for House District 111</td>\n",
       "      <td>3</td>\n",
       "      <td>4286</td>\n",
       "    </tr>\n",
       "    <tr>\n",
       "      <th>3</th>\n",
       "      <td>103091551376724</td>\n",
       "      <td>Friends of Debbie Boothe-Schmidt</td>\n",
       "      <td>1</td>\n",
       "      <td>832</td>\n",
       "    </tr>\n",
       "    <tr>\n",
       "      <th>4</th>\n",
       "      <td>103091551376724</td>\n",
       "      <td>Friends of Debbie Boothe-Schmidt\\t</td>\n",
       "      <td>2</td>\n",
       "      <td>949</td>\n",
       "    </tr>\n",
       "    <tr>\n",
       "      <th>5</th>\n",
       "      <td>103091551376724</td>\n",
       "      <td>Friends of Debbie Boothe-Schmidt\\t</td>\n",
       "      <td>3</td>\n",
       "      <td>2601</td>\n",
       "    </tr>\n",
       "    <tr>\n",
       "      <th>6</th>\n",
       "      <td>111718570352005</td>\n",
       "      <td>Yes on Measure A - Homes for San Diegans, Spon...</td>\n",
       "      <td>1</td>\n",
       "      <td>1731</td>\n",
       "    </tr>\n",
       "    <tr>\n",
       "      <th>7</th>\n",
       "      <td>111718570352005</td>\n",
       "      <td>Yes on Measure A - Homes for San Diegans, Spon...</td>\n",
       "      <td>2</td>\n",
       "      <td>1752</td>\n",
       "    </tr>\n",
       "    <tr>\n",
       "      <th>8</th>\n",
       "      <td>111718570352005</td>\n",
       "      <td>Yes on Measure A - Homes for San Diegans, Spon...</td>\n",
       "      <td>3</td>\n",
       "      <td>1896</td>\n",
       "    </tr>\n",
       "    <tr>\n",
       "      <th>9</th>\n",
       "      <td>111718570352005</td>\n",
       "      <td>Yes on Measure A - Homes for San Diegans, Spon...</td>\n",
       "      <td>4</td>\n",
       "      <td>2093</td>\n",
       "    </tr>\n",
       "    <tr>\n",
       "      <th>10</th>\n",
       "      <td>111718570352005</td>\n",
       "      <td>Yes on Measure A - Homes for San Diegans, Spon...</td>\n",
       "      <td>5</td>\n",
       "      <td>2601</td>\n",
       "    </tr>\n",
       "    <tr>\n",
       "      <th>11</th>\n",
       "      <td>127913103970095</td>\n",
       "      <td>The C Club of Houston</td>\n",
       "      <td>1</td>\n",
       "      <td>1210</td>\n",
       "    </tr>\n",
       "    <tr>\n",
       "      <th>12</th>\n",
       "      <td>127913103970095</td>\n",
       "      <td>The \"C\" Club of Houston</td>\n",
       "      <td>2</td>\n",
       "      <td>2601</td>\n",
       "    </tr>\n",
       "  </tbody>\n",
       "</table>\n",
       "</div>\n",
       "      <button class=\"colab-df-convert\" onclick=\"convertToInteractive('df-ce075769-246b-4cce-bc87-1295df673595')\"\n",
       "              title=\"Convert this dataframe to an interactive table.\"\n",
       "              style=\"display:none;\">\n",
       "        \n",
       "  <svg xmlns=\"http://www.w3.org/2000/svg\" height=\"24px\"viewBox=\"0 0 24 24\"\n",
       "       width=\"24px\">\n",
       "    <path d=\"M0 0h24v24H0V0z\" fill=\"none\"/>\n",
       "    <path d=\"M18.56 5.44l.94 2.06.94-2.06 2.06-.94-2.06-.94-.94-2.06-.94 2.06-2.06.94zm-11 1L8.5 8.5l.94-2.06 2.06-.94-2.06-.94L8.5 2.5l-.94 2.06-2.06.94zm10 10l.94 2.06.94-2.06 2.06-.94-2.06-.94-.94-2.06-.94 2.06-2.06.94z\"/><path d=\"M17.41 7.96l-1.37-1.37c-.4-.4-.92-.59-1.43-.59-.52 0-1.04.2-1.43.59L10.3 9.45l-7.72 7.72c-.78.78-.78 2.05 0 2.83L4 21.41c.39.39.9.59 1.41.59.51 0 1.02-.2 1.41-.59l7.78-7.78 2.81-2.81c.8-.78.8-2.07 0-2.86zM5.41 20L4 18.59l7.72-7.72 1.47 1.35L5.41 20z\"/>\n",
       "  </svg>\n",
       "      </button>\n",
       "      \n",
       "  <style>\n",
       "    .colab-df-container {\n",
       "      display:flex;\n",
       "      flex-wrap:wrap;\n",
       "      gap: 12px;\n",
       "    }\n",
       "\n",
       "    .colab-df-convert {\n",
       "      background-color: #E8F0FE;\n",
       "      border: none;\n",
       "      border-radius: 50%;\n",
       "      cursor: pointer;\n",
       "      display: none;\n",
       "      fill: #1967D2;\n",
       "      height: 32px;\n",
       "      padding: 0 0 0 0;\n",
       "      width: 32px;\n",
       "    }\n",
       "\n",
       "    .colab-df-convert:hover {\n",
       "      background-color: #E2EBFA;\n",
       "      box-shadow: 0px 1px 2px rgba(60, 64, 67, 0.3), 0px 1px 3px 1px rgba(60, 64, 67, 0.15);\n",
       "      fill: #174EA6;\n",
       "    }\n",
       "\n",
       "    [theme=dark] .colab-df-convert {\n",
       "      background-color: #3B4455;\n",
       "      fill: #D2E3FC;\n",
       "    }\n",
       "\n",
       "    [theme=dark] .colab-df-convert:hover {\n",
       "      background-color: #434B5C;\n",
       "      box-shadow: 0px 1px 3px 1px rgba(0, 0, 0, 0.15);\n",
       "      filter: drop-shadow(0px 1px 2px rgba(0, 0, 0, 0.3));\n",
       "      fill: #FFFFFF;\n",
       "    }\n",
       "  </style>\n",
       "\n",
       "      <script>\n",
       "        const buttonEl =\n",
       "          document.querySelector('#df-ce075769-246b-4cce-bc87-1295df673595 button.colab-df-convert');\n",
       "        buttonEl.style.display =\n",
       "          google.colab.kernel.accessAllowed ? 'block' : 'none';\n",
       "\n",
       "        async function convertToInteractive(key) {\n",
       "          const element = document.querySelector('#df-ce075769-246b-4cce-bc87-1295df673595');\n",
       "          const dataTable =\n",
       "            await google.colab.kernel.invokeFunction('convertToInteractive',\n",
       "                                                     [key], {});\n",
       "          if (!dataTable) return;\n",
       "\n",
       "          const docLinkHtml = 'Like what you see? Visit the ' +\n",
       "            '<a target=\"_blank\" href=https://colab.research.google.com/notebooks/data_table.ipynb>data table notebook</a>'\n",
       "            + ' to learn more about interactive tables.';\n",
       "          element.innerHTML = '';\n",
       "          dataTable['output_type'] = 'display_data';\n",
       "          await google.colab.output.renderOutput(dataTable, element);\n",
       "          const docLink = document.createElement('div');\n",
       "          docLink.innerHTML = docLinkHtml;\n",
       "          element.appendChild(docLink);\n",
       "        }\n",
       "      </script>\n",
       "    </div>\n",
       "  </div>\n",
       "  "
      ],
      "text/plain": [
       "            page_id                                         disclaimer  pd_id  \\\n",
       "0   100874024777082          John Jack Ducharme for House District 111      1   \n",
       "1   100874024777082        John \"Jack\" Ducharme for House District 111      2   \n",
       "2   100874024777082      John \\\"Jack\\\" Ducharme for House District 111      3   \n",
       "3   103091551376724                   Friends of Debbie Boothe-Schmidt      1   \n",
       "4   103091551376724                 Friends of Debbie Boothe-Schmidt\\t      2   \n",
       "5   103091551376724                 Friends of Debbie Boothe-Schmidt\\t      3   \n",
       "6   111718570352005  Yes on Measure A - Homes for San Diegans, Spon...      1   \n",
       "7   111718570352005  Yes on Measure A - Homes for San Diegans, Spon...      2   \n",
       "8   111718570352005  Yes on Measure A - Homes for San Diegans, Spon...      3   \n",
       "9   111718570352005  Yes on Measure A - Homes for San Diegans, Spon...      4   \n",
       "10  111718570352005  Yes on Measure A - Homes for San Diegans, Spon...      5   \n",
       "11  127913103970095                              The C Club of Houston      1   \n",
       "12  127913103970095                            The \"C\" Club of Houston      2   \n",
       "\n",
       "    op_num  \n",
       "0     1908  \n",
       "1     2601  \n",
       "2     4286  \n",
       "3      832  \n",
       "4      949  \n",
       "5     2601  \n",
       "6     1731  \n",
       "7     1752  \n",
       "8     1896  \n",
       "9     2093  \n",
       "10    2601  \n",
       "11    1210  \n",
       "12    2601  "
      ]
     },
     "execution_count": null,
     "metadata": {},
     "output_type": "execute_result"
    }
   ],
   "source": [
    "fix"
   ]
  },
  {
   "cell_type": "code",
   "execution_count": null,
   "metadata": {
    "colab": {
     "background_save": true
    },
    "id": "caQdSeaR90r_"
   },
   "outputs": [],
   "source": [
    "fix['pdid_fix']=\"pd-\" + fix['page_id'].apply(str) + \"-\" + fix['pd_id'].apply(str)"
   ]
  },
  {
   "cell_type": "code",
   "execution_count": null,
   "metadata": {
    "colab": {
     "background_save": true
    },
    "id": "vZ7L5Vfq-dfp"
   },
   "outputs": [],
   "source": [
    "fix = fix[['page_id', 'disclaimer', 'pdid_fix']]"
   ]
  },
  {
   "cell_type": "code",
   "execution_count": null,
   "metadata": {
    "colab": {
     "background_save": true
    },
    "id": "4_GbraJe-m0x"
   },
   "outputs": [],
   "source": [
    "d = d.merge(fix, on=['page_id', 'disclaimer'], how='left', indicator=True)"
   ]
  },
  {
   "cell_type": "code",
   "execution_count": null,
   "metadata": {
    "colab": {
     "background_save": true
    },
    "id": "vdqrl4HjF0aQ",
    "outputId": "d08343b2-83f1-48be-fa64-9059bd22052f"
   },
   "outputs": [
    {
     "data": {
      "text/plain": [
       "left_only     1182235\n",
       "both              150\n",
       "right_only          0\n",
       "Name: _merge, dtype: int64"
      ]
     },
     "execution_count": null,
     "metadata": {},
     "output_type": "execute_result"
    }
   ],
   "source": [
    "d._merge.value_counts()"
   ]
  },
  {
   "cell_type": "code",
   "execution_count": null,
   "metadata": {
    "colab": {
     "background_save": true
    },
    "id": "IhEdvr6N-_n1"
   },
   "outputs": [],
   "source": [
    "d.loc[d['pd_id'].isna(), 'pd_id']=d['pdid_fix']"
   ]
  },
  {
   "cell_type": "code",
   "execution_count": null,
   "metadata": {
    "colab": {
     "background_save": true
    },
    "id": "kIm5-uF7wR6O",
    "outputId": "399afbc1-6b98-4302-e920-f9ca01bd7529"
   },
   "outputs": [
    {
     "data": {
      "text/plain": [
       "array(['The \"\"C\"\" Club of Houston',\n",
       "       'Yes on Measure A - Homes for San Diegans, Sponsored by a Coalition of Civic Nonprofits and Housing Providers. Committee major funding from Affirmed Housing Group Inc Eden Housing Inc Metropolitan Area Advisory Committee (MAAC) Funding details at www.sandiego.gov/donors.',\n",
       "       'John \"\"Jack\"\" Ducharme for House District 111'], dtype=object)"
      ]
     },
     "execution_count": null,
     "metadata": {},
     "output_type": "execute_result"
    }
   ],
   "source": [
    "# These disclaimers are not in Pavel's file\n",
    "d.loc[d['pd_id'].isna()].disclaimer.unique()"
   ]
  },
  {
   "cell_type": "code",
   "execution_count": null,
   "metadata": {
    "colab": {
     "base_uri": "https://localhost:8080/",
     "height": 35
    },
    "id": "ZqCR6N9nJAhU",
    "outputId": "72d00a2b-8971-4219-a141-48f13ab047ee"
   },
   "outputs": [
    {
     "data": {
      "application/vnd.google.colaboratory.intrinsic+json": {
       "type": "string"
      },
      "text/plain": [
       "'The \"\"C\"\" Club of Houston'"
      ]
     },
     "execution_count": 16,
     "metadata": {},
     "output_type": "execute_result"
    }
   ],
   "source": [
    "d.loc[d['pd_id'].isna()].disclaimer.unique()[0]"
   ]
  },
  {
   "cell_type": "code",
   "execution_count": null,
   "metadata": {
    "colab": {
     "base_uri": "https://localhost:8080/",
     "height": 70
    },
    "id": "odoOuXgUNNVQ",
    "outputId": "0b4ab4cb-2987-4e1e-b834-1c26b6cf6a36"
   },
   "outputs": [
    {
     "data": {
      "application/vnd.google.colaboratory.intrinsic+json": {
       "type": "string"
      },
      "text/plain": [
       "'Yes on Measure A - Homes for San Diegans, Sponsored by a Coalition of Civic Nonprofits and Housing Providers. Committee major funding from Affirmed Housing Group Inc Eden Housing Inc Metropolitan Area Advisory Committee (MAAC) Funding details at www.sandiego.gov/donors.'"
      ]
     },
     "execution_count": 17,
     "metadata": {},
     "output_type": "execute_result"
    }
   ],
   "source": [
    "d.loc[d['pd_id'].isna()].disclaimer.unique()[1]"
   ]
  },
  {
   "cell_type": "code",
   "execution_count": null,
   "metadata": {
    "colab": {
     "base_uri": "https://localhost:8080/",
     "height": 35
    },
    "id": "QXwm6HiUNsIF",
    "outputId": "a9ce9b2f-3f56-48e2-c96d-b3ce4032e012"
   },
   "outputs": [
    {
     "data": {
      "application/vnd.google.colaboratory.intrinsic+json": {
       "type": "string"
      },
      "text/plain": [
       "'John \"\"Jack\"\" Ducharme for House District 111'"
      ]
     },
     "execution_count": 18,
     "metadata": {},
     "output_type": "execute_result"
    }
   ],
   "source": [
    "d.loc[d['pd_id'].isna()].disclaimer.unique()[2]"
   ]
  },
  {
   "cell_type": "code",
   "execution_count": null,
   "metadata": {
    "id": "XsuBoKtZMx8p"
   },
   "outputs": [],
   "source": [
    "# Manually add this pd id\n",
    "d.loc[(d['page_id']==127913103970095)&(d['disclaimer']=='The \"\"C\"\" Club of Houston'), 'pd_id']='pd-127913103970095-2'"
   ]
  },
  {
   "cell_type": "code",
   "execution_count": null,
   "metadata": {
    "id": "79DPm0dcIsNc"
   },
   "outputs": [],
   "source": [
    "d.loc[(d['page_id']==111718570352005)&(d['disclaimer']=='Yes on Measure A - Homes for San Diegans, Sponsored by a Coalition of Civic Nonprofits and Housing Providers. Committee major funding from Affirmed Housing Group Inc Eden Housing Inc Metropolitan Area Advisory Committee (MAAC) Funding details at www.sandiego.gov/donors.'), 'pd_id']='pd-111718570352005-2'"
   ]
  },
  {
   "cell_type": "code",
   "execution_count": null,
   "metadata": {
    "id": "VhaPVNmrNgZS"
   },
   "outputs": [],
   "source": [
    "d.loc[(d['page_id']==100874024777082)&(d['disclaimer']=='John \"\"Jack\"\" Ducharme for House District 111'), 'pd_id']='pd-100874024777082-2'"
   ]
  },
  {
   "cell_type": "code",
   "execution_count": null,
   "metadata": {
    "colab": {
     "base_uri": "https://localhost:8080/",
     "height": 49
    },
    "id": "SwPNm-EFQsfm",
    "outputId": "4be0aeb4-27ed-43e9-dbea-1fd108a2fd45"
   },
   "outputs": [
    {
     "data": {
      "text/html": [
       "\n",
       "  <div id=\"df-f3249030-95a2-4aa2-b269-6a633d62169e\">\n",
       "    <div class=\"colab-df-container\">\n",
       "      <div>\n",
       "<style scoped>\n",
       "    .dataframe tbody tr th:only-of-type {\n",
       "        vertical-align: middle;\n",
       "    }\n",
       "\n",
       "    .dataframe tbody tr th {\n",
       "        vertical-align: top;\n",
       "    }\n",
       "\n",
       "    .dataframe thead th {\n",
       "        text-align: right;\n",
       "    }\n",
       "</style>\n",
       "<table border=\"1\" class=\"dataframe\">\n",
       "  <thead>\n",
       "    <tr style=\"text-align: right;\">\n",
       "      <th></th>\n",
       "      <th>ad_id</th>\n",
       "      <th>pd_id</th>\n",
       "      <th>page_id</th>\n",
       "      <th>disclaimer</th>\n",
       "      <th>ad_combined_text</th>\n",
       "      <th>pdid_fix</th>\n",
       "      <th>_merge</th>\n",
       "    </tr>\n",
       "  </thead>\n",
       "  <tbody>\n",
       "  </tbody>\n",
       "</table>\n",
       "</div>\n",
       "      <button class=\"colab-df-convert\" onclick=\"convertToInteractive('df-f3249030-95a2-4aa2-b269-6a633d62169e')\"\n",
       "              title=\"Convert this dataframe to an interactive table.\"\n",
       "              style=\"display:none;\">\n",
       "        \n",
       "  <svg xmlns=\"http://www.w3.org/2000/svg\" height=\"24px\"viewBox=\"0 0 24 24\"\n",
       "       width=\"24px\">\n",
       "    <path d=\"M0 0h24v24H0V0z\" fill=\"none\"/>\n",
       "    <path d=\"M18.56 5.44l.94 2.06.94-2.06 2.06-.94-2.06-.94-.94-2.06-.94 2.06-2.06.94zm-11 1L8.5 8.5l.94-2.06 2.06-.94-2.06-.94L8.5 2.5l-.94 2.06-2.06.94zm10 10l.94 2.06.94-2.06 2.06-.94-2.06-.94-.94-2.06-.94 2.06-2.06.94z\"/><path d=\"M17.41 7.96l-1.37-1.37c-.4-.4-.92-.59-1.43-.59-.52 0-1.04.2-1.43.59L10.3 9.45l-7.72 7.72c-.78.78-.78 2.05 0 2.83L4 21.41c.39.39.9.59 1.41.59.51 0 1.02-.2 1.41-.59l7.78-7.78 2.81-2.81c.8-.78.8-2.07 0-2.86zM5.41 20L4 18.59l7.72-7.72 1.47 1.35L5.41 20z\"/>\n",
       "  </svg>\n",
       "      </button>\n",
       "      \n",
       "  <style>\n",
       "    .colab-df-container {\n",
       "      display:flex;\n",
       "      flex-wrap:wrap;\n",
       "      gap: 12px;\n",
       "    }\n",
       "\n",
       "    .colab-df-convert {\n",
       "      background-color: #E8F0FE;\n",
       "      border: none;\n",
       "      border-radius: 50%;\n",
       "      cursor: pointer;\n",
       "      display: none;\n",
       "      fill: #1967D2;\n",
       "      height: 32px;\n",
       "      padding: 0 0 0 0;\n",
       "      width: 32px;\n",
       "    }\n",
       "\n",
       "    .colab-df-convert:hover {\n",
       "      background-color: #E2EBFA;\n",
       "      box-shadow: 0px 1px 2px rgba(60, 64, 67, 0.3), 0px 1px 3px 1px rgba(60, 64, 67, 0.15);\n",
       "      fill: #174EA6;\n",
       "    }\n",
       "\n",
       "    [theme=dark] .colab-df-convert {\n",
       "      background-color: #3B4455;\n",
       "      fill: #D2E3FC;\n",
       "    }\n",
       "\n",
       "    [theme=dark] .colab-df-convert:hover {\n",
       "      background-color: #434B5C;\n",
       "      box-shadow: 0px 1px 3px 1px rgba(0, 0, 0, 0.15);\n",
       "      filter: drop-shadow(0px 1px 2px rgba(0, 0, 0, 0.3));\n",
       "      fill: #FFFFFF;\n",
       "    }\n",
       "  </style>\n",
       "\n",
       "      <script>\n",
       "        const buttonEl =\n",
       "          document.querySelector('#df-f3249030-95a2-4aa2-b269-6a633d62169e button.colab-df-convert');\n",
       "        buttonEl.style.display =\n",
       "          google.colab.kernel.accessAllowed ? 'block' : 'none';\n",
       "\n",
       "        async function convertToInteractive(key) {\n",
       "          const element = document.querySelector('#df-f3249030-95a2-4aa2-b269-6a633d62169e');\n",
       "          const dataTable =\n",
       "            await google.colab.kernel.invokeFunction('convertToInteractive',\n",
       "                                                     [key], {});\n",
       "          if (!dataTable) return;\n",
       "\n",
       "          const docLinkHtml = 'Like what you see? Visit the ' +\n",
       "            '<a target=\"_blank\" href=https://colab.research.google.com/notebooks/data_table.ipynb>data table notebook</a>'\n",
       "            + ' to learn more about interactive tables.';\n",
       "          element.innerHTML = '';\n",
       "          dataTable['output_type'] = 'display_data';\n",
       "          await google.colab.output.renderOutput(dataTable, element);\n",
       "          const docLink = document.createElement('div');\n",
       "          docLink.innerHTML = docLinkHtml;\n",
       "          element.appendChild(docLink);\n",
       "        }\n",
       "      </script>\n",
       "    </div>\n",
       "  </div>\n",
       "  "
      ],
      "text/plain": [
       "Empty DataFrame\n",
       "Columns: [ad_id, pd_id, page_id, disclaimer, ad_combined_text, pdid_fix, _merge]\n",
       "Index: []"
      ]
     },
     "execution_count": 22,
     "metadata": {},
     "output_type": "execute_result"
    }
   ],
   "source": [
    "d.loc[d['pd_id'].isna()]"
   ]
  },
  {
   "cell_type": "code",
   "execution_count": null,
   "metadata": {
    "id": "n2nrcoxuT0N7"
   },
   "outputs": [],
   "source": [
    "del d['_merge']"
   ]
  },
  {
   "cell_type": "markdown",
   "metadata": {
    "id": "e0vst7tETpeH"
   },
   "source": [
    "#### Add party all info from wmp entities file"
   ]
  },
  {
   "cell_type": "code",
   "execution_count": null,
   "metadata": {
    "id": "IF21sTsvH1P4"
   },
   "outputs": [],
   "source": [
    "wmp = pd.read_csv('/content/drive/Shareddrives/Delta Lab/Data/entities_fb_2020/wmp_fb_entities_v051822.csv',\n",
    "                  usecols=['pd_id','party_all'])"
   ]
  },
  {
   "cell_type": "code",
   "execution_count": null,
   "metadata": {
    "id": "F4pHDpu9Zls-"
   },
   "outputs": [],
   "source": [
    "d = d.merge(wmp, on='pd_id', how='left', indicator=True)"
   ]
  },
  {
   "cell_type": "code",
   "execution_count": null,
   "metadata": {
    "colab": {
     "base_uri": "https://localhost:8080/"
    },
    "id": "Zyn_dXO0WxKM",
    "outputId": "83d4e877-9bf1-4a93-d6c9-fd66a3dc9acb"
   },
   "outputs": [
    {
     "data": {
      "text/plain": [
       "both          900809\n",
       "left_only     281576\n",
       "right_only         0\n",
       "Name: _merge, dtype: int64"
      ]
     },
     "execution_count": 28,
     "metadata": {},
     "output_type": "execute_result"
    }
   ],
   "source": [
    "d['_merge'].value_counts()"
   ]
  },
  {
   "cell_type": "code",
   "execution_count": null,
   "metadata": {
    "id": "22A7dMUjZ378"
   },
   "outputs": [],
   "source": [
    "del d['_merge']"
   ]
  },
  {
   "cell_type": "code",
   "execution_count": null,
   "metadata": {
    "colab": {
     "base_uri": "https://localhost:8080/",
     "height": 444
    },
    "id": "-oMNqKlXaH3C",
    "outputId": "5c589e75-688a-4284-cb83-160bd21708fc"
   },
   "outputs": [
    {
     "data": {
      "text/html": [
       "\n",
       "  <div id=\"df-15d77891-4fb0-4ff8-81b7-d916094f299b\">\n",
       "    <div class=\"colab-df-container\">\n",
       "      <div>\n",
       "<style scoped>\n",
       "    .dataframe tbody tr th:only-of-type {\n",
       "        vertical-align: middle;\n",
       "    }\n",
       "\n",
       "    .dataframe tbody tr th {\n",
       "        vertical-align: top;\n",
       "    }\n",
       "\n",
       "    .dataframe thead th {\n",
       "        text-align: right;\n",
       "    }\n",
       "</style>\n",
       "<table border=\"1\" class=\"dataframe\">\n",
       "  <thead>\n",
       "    <tr style=\"text-align: right;\">\n",
       "      <th></th>\n",
       "      <th>ad_id</th>\n",
       "      <th>pd_id</th>\n",
       "      <th>page_id</th>\n",
       "      <th>disclaimer</th>\n",
       "      <th>ad_combined_text</th>\n",
       "      <th>pdid_fix</th>\n",
       "      <th>party_all</th>\n",
       "    </tr>\n",
       "  </thead>\n",
       "  <tbody>\n",
       "    <tr>\n",
       "      <th>0</th>\n",
       "      <td>x2461917247435095</td>\n",
       "      <td>pd-540707072979860-3</td>\n",
       "      <td>540707072979860</td>\n",
       "      <td>MARYOTT FOR CONGRESS</td>\n",
       "      <td>The race in CA-49 is down to the wire. Congres...</td>\n",
       "      <td>NaN</td>\n",
       "      <td>REP</td>\n",
       "    </tr>\n",
       "    <tr>\n",
       "      <th>1</th>\n",
       "      <td>x2787243378200248</td>\n",
       "      <td>pd-1754372481245454-2</td>\n",
       "      <td>1754372481245454</td>\n",
       "      <td>Friends of Tara Zrinski</td>\n",
       "      <td>💜 Tara Zrinski is supported by Republicans and...</td>\n",
       "      <td>NaN</td>\n",
       "      <td>NaN</td>\n",
       "    </tr>\n",
       "    <tr>\n",
       "      <th>2</th>\n",
       "      <td>x323896925519508</td>\n",
       "      <td>pd-1594170604242427-3</td>\n",
       "      <td>1594170604242427</td>\n",
       "      <td>Hans D Hochheimer</td>\n",
       "      <td>This is a great video which everybody should w...</td>\n",
       "      <td>NaN</td>\n",
       "      <td>REP</td>\n",
       "    </tr>\n",
       "    <tr>\n",
       "      <th>3</th>\n",
       "      <td>x2798640176905866</td>\n",
       "      <td>pd-1676291615740480-7</td>\n",
       "      <td>1676291615740480</td>\n",
       "      <td>Homeowners and Tenants United</td>\n",
       "      <td>A billionaire Trump donor is spending millions...</td>\n",
       "      <td>NaN</td>\n",
       "      <td>NaN</td>\n",
       "    </tr>\n",
       "    <tr>\n",
       "      <th>4</th>\n",
       "      <td>x426761618289494</td>\n",
       "      <td>pd-456262374764387-3</td>\n",
       "      <td>456262374764387</td>\n",
       "      <td>Voters Not Politicians</td>\n",
       "      <td>Rep. Ryan Berman is blocking legislation that ...</td>\n",
       "      <td>NaN</td>\n",
       "      <td>MISSING</td>\n",
       "    </tr>\n",
       "  </tbody>\n",
       "</table>\n",
       "</div>\n",
       "      <button class=\"colab-df-convert\" onclick=\"convertToInteractive('df-15d77891-4fb0-4ff8-81b7-d916094f299b')\"\n",
       "              title=\"Convert this dataframe to an interactive table.\"\n",
       "              style=\"display:none;\">\n",
       "        \n",
       "  <svg xmlns=\"http://www.w3.org/2000/svg\" height=\"24px\"viewBox=\"0 0 24 24\"\n",
       "       width=\"24px\">\n",
       "    <path d=\"M0 0h24v24H0V0z\" fill=\"none\"/>\n",
       "    <path d=\"M18.56 5.44l.94 2.06.94-2.06 2.06-.94-2.06-.94-.94-2.06-.94 2.06-2.06.94zm-11 1L8.5 8.5l.94-2.06 2.06-.94-2.06-.94L8.5 2.5l-.94 2.06-2.06.94zm10 10l.94 2.06.94-2.06 2.06-.94-2.06-.94-.94-2.06-.94 2.06-2.06.94z\"/><path d=\"M17.41 7.96l-1.37-1.37c-.4-.4-.92-.59-1.43-.59-.52 0-1.04.2-1.43.59L10.3 9.45l-7.72 7.72c-.78.78-.78 2.05 0 2.83L4 21.41c.39.39.9.59 1.41.59.51 0 1.02-.2 1.41-.59l7.78-7.78 2.81-2.81c.8-.78.8-2.07 0-2.86zM5.41 20L4 18.59l7.72-7.72 1.47 1.35L5.41 20z\"/>\n",
       "  </svg>\n",
       "      </button>\n",
       "      \n",
       "  <style>\n",
       "    .colab-df-container {\n",
       "      display:flex;\n",
       "      flex-wrap:wrap;\n",
       "      gap: 12px;\n",
       "    }\n",
       "\n",
       "    .colab-df-convert {\n",
       "      background-color: #E8F0FE;\n",
       "      border: none;\n",
       "      border-radius: 50%;\n",
       "      cursor: pointer;\n",
       "      display: none;\n",
       "      fill: #1967D2;\n",
       "      height: 32px;\n",
       "      padding: 0 0 0 0;\n",
       "      width: 32px;\n",
       "    }\n",
       "\n",
       "    .colab-df-convert:hover {\n",
       "      background-color: #E2EBFA;\n",
       "      box-shadow: 0px 1px 2px rgba(60, 64, 67, 0.3), 0px 1px 3px 1px rgba(60, 64, 67, 0.15);\n",
       "      fill: #174EA6;\n",
       "    }\n",
       "\n",
       "    [theme=dark] .colab-df-convert {\n",
       "      background-color: #3B4455;\n",
       "      fill: #D2E3FC;\n",
       "    }\n",
       "\n",
       "    [theme=dark] .colab-df-convert:hover {\n",
       "      background-color: #434B5C;\n",
       "      box-shadow: 0px 1px 3px 1px rgba(0, 0, 0, 0.15);\n",
       "      filter: drop-shadow(0px 1px 2px rgba(0, 0, 0, 0.3));\n",
       "      fill: #FFFFFF;\n",
       "    }\n",
       "  </style>\n",
       "\n",
       "      <script>\n",
       "        const buttonEl =\n",
       "          document.querySelector('#df-15d77891-4fb0-4ff8-81b7-d916094f299b button.colab-df-convert');\n",
       "        buttonEl.style.display =\n",
       "          google.colab.kernel.accessAllowed ? 'block' : 'none';\n",
       "\n",
       "        async function convertToInteractive(key) {\n",
       "          const element = document.querySelector('#df-15d77891-4fb0-4ff8-81b7-d916094f299b');\n",
       "          const dataTable =\n",
       "            await google.colab.kernel.invokeFunction('convertToInteractive',\n",
       "                                                     [key], {});\n",
       "          if (!dataTable) return;\n",
       "\n",
       "          const docLinkHtml = 'Like what you see? Visit the ' +\n",
       "            '<a target=\"_blank\" href=https://colab.research.google.com/notebooks/data_table.ipynb>data table notebook</a>'\n",
       "            + ' to learn more about interactive tables.';\n",
       "          element.innerHTML = '';\n",
       "          dataTable['output_type'] = 'display_data';\n",
       "          await google.colab.output.renderOutput(dataTable, element);\n",
       "          const docLink = document.createElement('div');\n",
       "          docLink.innerHTML = docLinkHtml;\n",
       "          element.appendChild(docLink);\n",
       "        }\n",
       "      </script>\n",
       "    </div>\n",
       "  </div>\n",
       "  "
      ],
      "text/plain": [
       "               ad_id                  pd_id           page_id  \\\n",
       "0  x2461917247435095   pd-540707072979860-3   540707072979860   \n",
       "1  x2787243378200248  pd-1754372481245454-2  1754372481245454   \n",
       "2   x323896925519508  pd-1594170604242427-3  1594170604242427   \n",
       "3  x2798640176905866  pd-1676291615740480-7  1676291615740480   \n",
       "4   x426761618289494   pd-456262374764387-3   456262374764387   \n",
       "\n",
       "                      disclaimer  \\\n",
       "0           MARYOTT FOR CONGRESS   \n",
       "1        Friends of Tara Zrinski   \n",
       "2              Hans D Hochheimer   \n",
       "3  Homeowners and Tenants United   \n",
       "4         Voters Not Politicians   \n",
       "\n",
       "                                    ad_combined_text pdid_fix party_all  \n",
       "0  The race in CA-49 is down to the wire. Congres...      NaN       REP  \n",
       "1  💜 Tara Zrinski is supported by Republicans and...      NaN       NaN  \n",
       "2  This is a great video which everybody should w...      NaN       REP  \n",
       "3  A billionaire Trump donor is spending millions...      NaN       NaN  \n",
       "4  Rep. Ryan Berman is blocking legislation that ...      NaN   MISSING  "
      ]
     },
     "execution_count": 30,
     "metadata": {},
     "output_type": "execute_result"
    }
   ],
   "source": [
    "d.head()"
   ]
  },
  {
   "cell_type": "code",
   "execution_count": null,
   "metadata": {
    "colab": {
     "base_uri": "https://localhost:8080/"
    },
    "id": "BU5yUdetaJRq",
    "outputId": "a81f87a8-3220-4c19-d2d0-23325ecee15b"
   },
   "outputs": [
    {
     "data": {
      "text/plain": [
       "10746"
      ]
     },
     "execution_count": 31,
     "metadata": {},
     "output_type": "execute_result"
    }
   ],
   "source": [
    "len(d.pd_id.unique())"
   ]
  },
  {
   "cell_type": "code",
   "execution_count": null,
   "metadata": {
    "colab": {
     "base_uri": "https://localhost:8080/"
    },
    "id": "JotxxQnQayw1",
    "outputId": "754441d1-68b0-408a-86b0-11fc60cc71e1"
   },
   "outputs": [
    {
     "data": {
      "text/plain": [
       "DEM        390855\n",
       "REP        388584\n",
       "MISSING    116313\n",
       "OTHER        5057\n",
       "Name: party_all, dtype: int64"
      ]
     },
     "execution_count": 32,
     "metadata": {},
     "output_type": "execute_result"
    }
   ],
   "source": [
    "d.party_all.value_counts()"
   ]
  },
  {
   "cell_type": "code",
   "execution_count": null,
   "metadata": {
    "id": "zlvFaIpmaucD"
   },
   "outputs": [],
   "source": [
    "# Only keep entities with party all info\n",
    "d = d.loc[(d['party_all']!=\"MISSING\")&(d['party_all'].notna())]"
   ]
  },
  {
   "cell_type": "code",
   "execution_count": null,
   "metadata": {
    "colab": {
     "base_uri": "https://localhost:8080/"
    },
    "id": "p8slJDGAbRTK",
    "outputId": "d2f2eab0-a009-4fcc-feb7-a9316d3cdae2"
   },
   "outputs": [
    {
     "data": {
      "text/plain": [
       "DEM      390855\n",
       "REP      388584\n",
       "OTHER      5057\n",
       "Name: party_all, dtype: int64"
      ]
     },
     "execution_count": 34,
     "metadata": {},
     "output_type": "execute_result"
    }
   ],
   "source": [
    "d.party_all.value_counts(dropna=True)"
   ]
  },
  {
   "cell_type": "code",
   "execution_count": null,
   "metadata": {
    "colab": {
     "base_uri": "https://localhost:8080/"
    },
    "id": "V1oQ_j-MXa2Z",
    "outputId": "5eeebc2d-fb7d-4973-8859-a0251326ea6d"
   },
   "outputs": [
    {
     "data": {
      "text/plain": [
       "2477"
      ]
     },
     "execution_count": 35,
     "metadata": {},
     "output_type": "execute_result"
    }
   ],
   "source": [
    "len(d.pd_id.unique())"
   ]
  },
  {
   "cell_type": "markdown",
   "metadata": {
    "id": "nCX8cI8_lLTs"
   },
   "source": [
    "#### Split pd ids"
   ]
  },
  {
   "cell_type": "code",
   "execution_count": null,
   "metadata": {
    "id": "6PRDze1raPOv"
   },
   "outputs": [],
   "source": [
    "d_pdid = d.drop_duplicates(subset=['pd_id'], keep='last')\n",
    "d_pdid = d_pdid[['pd_id', 'party_all']]"
   ]
  },
  {
   "cell_type": "code",
   "execution_count": null,
   "metadata": {
    "id": "asDpp2sSsowy"
   },
   "outputs": [],
   "source": [
    "train, test = ms.train_test_split(d_pdid, train_size=0.8, random_state=123)"
   ]
  },
  {
   "cell_type": "code",
   "execution_count": null,
   "metadata": {
    "colab": {
     "base_uri": "https://localhost:8080/"
    },
    "id": "U_eU-jJ7tCNS",
    "outputId": "9919d5c5-9ebd-4549-8e07-e870bff52a1d"
   },
   "outputs": [
    {
     "name": "stdout",
     "output_type": "stream",
     "text": [
      "(1981, 2)\n",
      "(496, 2)\n"
     ]
    }
   ],
   "source": [
    "print(train.shape)\n",
    "print(test.shape)"
   ]
  },
  {
   "cell_type": "markdown",
   "metadata": {
    "id": "10uTZsb3lHf5"
   },
   "source": [
    "#### Prepare text for training"
   ]
  },
  {
   "cell_type": "code",
   "execution_count": null,
   "metadata": {
    "id": "0zyR7ltTZtmp"
   },
   "outputs": [],
   "source": [
    "# Deduplicate before concatenate ad texts\n",
    "dd = d.drop_duplicates(subset=['pd_id', 'ad_combined_text'], keep='last')"
   ]
  },
  {
   "cell_type": "code",
   "execution_count": null,
   "metadata": {
    "id": "SEegZoxUbmWQ"
   },
   "outputs": [],
   "source": [
    "d_pdid_txt = dd.groupby(['pd_id'])['ad_combined_text'].apply(lambda x: ' '.join(x)).reset_index()"
   ]
  },
  {
   "cell_type": "code",
   "execution_count": null,
   "metadata": {
    "id": "wWkD5frVdq2P"
   },
   "outputs": [],
   "source": [
    "d_pdid_txt['text_length'] = d_pdid_txt['ad_combined_text'].apply(len)"
   ]
  },
  {
   "cell_type": "code",
   "execution_count": null,
   "metadata": {
    "colab": {
     "base_uri": "https://localhost:8080/",
     "height": 206
    },
    "id": "BD83ljcodpWD",
    "outputId": "3e586751-8aec-4531-a178-1a2dc5396182"
   },
   "outputs": [
    {
     "data": {
      "text/html": [
       "\n",
       "  <div id=\"df-99588320-b9f1-41d7-89ee-3555d17ce65a\">\n",
       "    <div class=\"colab-df-container\">\n",
       "      <div>\n",
       "<style scoped>\n",
       "    .dataframe tbody tr th:only-of-type {\n",
       "        vertical-align: middle;\n",
       "    }\n",
       "\n",
       "    .dataframe tbody tr th {\n",
       "        vertical-align: top;\n",
       "    }\n",
       "\n",
       "    .dataframe thead th {\n",
       "        text-align: right;\n",
       "    }\n",
       "</style>\n",
       "<table border=\"1\" class=\"dataframe\">\n",
       "  <thead>\n",
       "    <tr style=\"text-align: right;\">\n",
       "      <th></th>\n",
       "      <th>pd_id</th>\n",
       "      <th>ad_combined_text</th>\n",
       "      <th>text_length</th>\n",
       "    </tr>\n",
       "  </thead>\n",
       "  <tbody>\n",
       "    <tr>\n",
       "      <th>0</th>\n",
       "      <td>pd-1000253160054572-4</td>\n",
       "      <td>Our movement achieved something amazing, we un...</td>\n",
       "      <td>43277</td>\n",
       "    </tr>\n",
       "    <tr>\n",
       "      <th>1</th>\n",
       "      <td>pd-100131284943324-1</td>\n",
       "      <td>I’ve worked alongside Congressman Abraham and ...</td>\n",
       "      <td>6879</td>\n",
       "    </tr>\n",
       "    <tr>\n",
       "      <th>2</th>\n",
       "      <td>pd-100140741454415-2</td>\n",
       "      <td>Chris Bish Candidate for California's 6th Cong...</td>\n",
       "      <td>3023</td>\n",
       "    </tr>\n",
       "    <tr>\n",
       "      <th>3</th>\n",
       "      <td>pd-100147314821365-1</td>\n",
       "      <td>Texas Oil &amp; Coal Economy Killer! Biden couldn’...</td>\n",
       "      <td>9075</td>\n",
       "    </tr>\n",
       "    <tr>\n",
       "      <th>4</th>\n",
       "      <td>pd-100162588547085-1</td>\n",
       "      <td>New South Super PAC Community Change Voters VO...</td>\n",
       "      <td>3479</td>\n",
       "    </tr>\n",
       "  </tbody>\n",
       "</table>\n",
       "</div>\n",
       "      <button class=\"colab-df-convert\" onclick=\"convertToInteractive('df-99588320-b9f1-41d7-89ee-3555d17ce65a')\"\n",
       "              title=\"Convert this dataframe to an interactive table.\"\n",
       "              style=\"display:none;\">\n",
       "        \n",
       "  <svg xmlns=\"http://www.w3.org/2000/svg\" height=\"24px\"viewBox=\"0 0 24 24\"\n",
       "       width=\"24px\">\n",
       "    <path d=\"M0 0h24v24H0V0z\" fill=\"none\"/>\n",
       "    <path d=\"M18.56 5.44l.94 2.06.94-2.06 2.06-.94-2.06-.94-.94-2.06-.94 2.06-2.06.94zm-11 1L8.5 8.5l.94-2.06 2.06-.94-2.06-.94L8.5 2.5l-.94 2.06-2.06.94zm10 10l.94 2.06.94-2.06 2.06-.94-2.06-.94-.94-2.06-.94 2.06-2.06.94z\"/><path d=\"M17.41 7.96l-1.37-1.37c-.4-.4-.92-.59-1.43-.59-.52 0-1.04.2-1.43.59L10.3 9.45l-7.72 7.72c-.78.78-.78 2.05 0 2.83L4 21.41c.39.39.9.59 1.41.59.51 0 1.02-.2 1.41-.59l7.78-7.78 2.81-2.81c.8-.78.8-2.07 0-2.86zM5.41 20L4 18.59l7.72-7.72 1.47 1.35L5.41 20z\"/>\n",
       "  </svg>\n",
       "      </button>\n",
       "      \n",
       "  <style>\n",
       "    .colab-df-container {\n",
       "      display:flex;\n",
       "      flex-wrap:wrap;\n",
       "      gap: 12px;\n",
       "    }\n",
       "\n",
       "    .colab-df-convert {\n",
       "      background-color: #E8F0FE;\n",
       "      border: none;\n",
       "      border-radius: 50%;\n",
       "      cursor: pointer;\n",
       "      display: none;\n",
       "      fill: #1967D2;\n",
       "      height: 32px;\n",
       "      padding: 0 0 0 0;\n",
       "      width: 32px;\n",
       "    }\n",
       "\n",
       "    .colab-df-convert:hover {\n",
       "      background-color: #E2EBFA;\n",
       "      box-shadow: 0px 1px 2px rgba(60, 64, 67, 0.3), 0px 1px 3px 1px rgba(60, 64, 67, 0.15);\n",
       "      fill: #174EA6;\n",
       "    }\n",
       "\n",
       "    [theme=dark] .colab-df-convert {\n",
       "      background-color: #3B4455;\n",
       "      fill: #D2E3FC;\n",
       "    }\n",
       "\n",
       "    [theme=dark] .colab-df-convert:hover {\n",
       "      background-color: #434B5C;\n",
       "      box-shadow: 0px 1px 3px 1px rgba(0, 0, 0, 0.15);\n",
       "      filter: drop-shadow(0px 1px 2px rgba(0, 0, 0, 0.3));\n",
       "      fill: #FFFFFF;\n",
       "    }\n",
       "  </style>\n",
       "\n",
       "      <script>\n",
       "        const buttonEl =\n",
       "          document.querySelector('#df-99588320-b9f1-41d7-89ee-3555d17ce65a button.colab-df-convert');\n",
       "        buttonEl.style.display =\n",
       "          google.colab.kernel.accessAllowed ? 'block' : 'none';\n",
       "\n",
       "        async function convertToInteractive(key) {\n",
       "          const element = document.querySelector('#df-99588320-b9f1-41d7-89ee-3555d17ce65a');\n",
       "          const dataTable =\n",
       "            await google.colab.kernel.invokeFunction('convertToInteractive',\n",
       "                                                     [key], {});\n",
       "          if (!dataTable) return;\n",
       "\n",
       "          const docLinkHtml = 'Like what you see? Visit the ' +\n",
       "            '<a target=\"_blank\" href=https://colab.research.google.com/notebooks/data_table.ipynb>data table notebook</a>'\n",
       "            + ' to learn more about interactive tables.';\n",
       "          element.innerHTML = '';\n",
       "          dataTable['output_type'] = 'display_data';\n",
       "          await google.colab.output.renderOutput(dataTable, element);\n",
       "          const docLink = document.createElement('div');\n",
       "          docLink.innerHTML = docLinkHtml;\n",
       "          element.appendChild(docLink);\n",
       "        }\n",
       "      </script>\n",
       "    </div>\n",
       "  </div>\n",
       "  "
      ],
      "text/plain": [
       "                   pd_id                                   ad_combined_text  \\\n",
       "0  pd-1000253160054572-4  Our movement achieved something amazing, we un...   \n",
       "1   pd-100131284943324-1  I’ve worked alongside Congressman Abraham and ...   \n",
       "2   pd-100140741454415-2  Chris Bish Candidate for California's 6th Cong...   \n",
       "3   pd-100147314821365-1  Texas Oil & Coal Economy Killer! Biden couldn’...   \n",
       "4   pd-100162588547085-1  New South Super PAC Community Change Voters VO...   \n",
       "\n",
       "   text_length  \n",
       "0        43277  \n",
       "1         6879  \n",
       "2         3023  \n",
       "3         9075  \n",
       "4         3479  "
      ]
     },
     "execution_count": 42,
     "metadata": {},
     "output_type": "execute_result"
    }
   ],
   "source": [
    "d_pdid_txt.head()"
   ]
  },
  {
   "cell_type": "code",
   "execution_count": null,
   "metadata": {
    "colab": {
     "base_uri": "https://localhost:8080/"
    },
    "id": "JBgCrDcHd3Uw",
    "outputId": "9e09d3fe-3682-423f-dded-094a01df4477"
   },
   "outputs": [
    {
     "data": {
      "text/plain": [
       "count    2.477000e+03\n",
       "mean     2.020799e+04\n",
       "std      5.024862e+04\n",
       "min      5.400000e+01\n",
       "25%      3.051000e+03\n",
       "50%      8.182000e+03\n",
       "75%      1.946500e+04\n",
       "max      1.019899e+06\n",
       "Name: text_length, dtype: float64"
      ]
     },
     "execution_count": 43,
     "metadata": {},
     "output_type": "execute_result"
    }
   ],
   "source": [
    "d_pdid_txt['text_length'].describe()"
   ]
  },
  {
   "cell_type": "code",
   "execution_count": null,
   "metadata": {
    "colab": {
     "base_uri": "https://localhost:8080/"
    },
    "id": "GHSbNmCJlhts",
    "outputId": "225bfd95-14a1-4266-f82d-7dba6dd8c5e5"
   },
   "outputs": [
    {
     "data": {
      "text/plain": [
       "1019899"
      ]
     },
     "execution_count": 44,
     "metadata": {},
     "output_type": "execute_result"
    }
   ],
   "source": [
    "d_pdid_txt['text_length'].max()"
   ]
  },
  {
   "cell_type": "code",
   "execution_count": null,
   "metadata": {
    "colab": {
     "base_uri": "https://localhost:8080/",
     "height": 206
    },
    "id": "Ms1QPud7eV8e",
    "outputId": "4cfbff23-fe57-44c1-f47e-7332583f7c3d"
   },
   "outputs": [
    {
     "data": {
      "text/html": [
       "\n",
       "  <div id=\"df-d1a07a9d-a99d-451d-b5be-60f2707ec9dc\">\n",
       "    <div class=\"colab-df-container\">\n",
       "      <div>\n",
       "<style scoped>\n",
       "    .dataframe tbody tr th:only-of-type {\n",
       "        vertical-align: middle;\n",
       "    }\n",
       "\n",
       "    .dataframe tbody tr th {\n",
       "        vertical-align: top;\n",
       "    }\n",
       "\n",
       "    .dataframe thead th {\n",
       "        text-align: right;\n",
       "    }\n",
       "</style>\n",
       "<table border=\"1\" class=\"dataframe\">\n",
       "  <thead>\n",
       "    <tr style=\"text-align: right;\">\n",
       "      <th></th>\n",
       "      <th>pd_id</th>\n",
       "      <th>ad_combined_text</th>\n",
       "      <th>text_length</th>\n",
       "    </tr>\n",
       "  </thead>\n",
       "  <tbody>\n",
       "    <tr>\n",
       "      <th>0</th>\n",
       "      <td>pd-1000253160054572-4</td>\n",
       "      <td>Our movement achieved something amazing, we un...</td>\n",
       "      <td>43277</td>\n",
       "    </tr>\n",
       "    <tr>\n",
       "      <th>1</th>\n",
       "      <td>pd-100131284943324-1</td>\n",
       "      <td>I’ve worked alongside Congressman Abraham and ...</td>\n",
       "      <td>6879</td>\n",
       "    </tr>\n",
       "    <tr>\n",
       "      <th>2</th>\n",
       "      <td>pd-100140741454415-2</td>\n",
       "      <td>Chris Bish Candidate for California's 6th Cong...</td>\n",
       "      <td>3023</td>\n",
       "    </tr>\n",
       "    <tr>\n",
       "      <th>3</th>\n",
       "      <td>pd-100147314821365-1</td>\n",
       "      <td>Texas Oil &amp; Coal Economy Killer! Biden couldn’...</td>\n",
       "      <td>9075</td>\n",
       "    </tr>\n",
       "    <tr>\n",
       "      <th>4</th>\n",
       "      <td>pd-100162588547085-1</td>\n",
       "      <td>New South Super PAC Community Change Voters VO...</td>\n",
       "      <td>3479</td>\n",
       "    </tr>\n",
       "  </tbody>\n",
       "</table>\n",
       "</div>\n",
       "      <button class=\"colab-df-convert\" onclick=\"convertToInteractive('df-d1a07a9d-a99d-451d-b5be-60f2707ec9dc')\"\n",
       "              title=\"Convert this dataframe to an interactive table.\"\n",
       "              style=\"display:none;\">\n",
       "        \n",
       "  <svg xmlns=\"http://www.w3.org/2000/svg\" height=\"24px\"viewBox=\"0 0 24 24\"\n",
       "       width=\"24px\">\n",
       "    <path d=\"M0 0h24v24H0V0z\" fill=\"none\"/>\n",
       "    <path d=\"M18.56 5.44l.94 2.06.94-2.06 2.06-.94-2.06-.94-.94-2.06-.94 2.06-2.06.94zm-11 1L8.5 8.5l.94-2.06 2.06-.94-2.06-.94L8.5 2.5l-.94 2.06-2.06.94zm10 10l.94 2.06.94-2.06 2.06-.94-2.06-.94-.94-2.06-.94 2.06-2.06.94z\"/><path d=\"M17.41 7.96l-1.37-1.37c-.4-.4-.92-.59-1.43-.59-.52 0-1.04.2-1.43.59L10.3 9.45l-7.72 7.72c-.78.78-.78 2.05 0 2.83L4 21.41c.39.39.9.59 1.41.59.51 0 1.02-.2 1.41-.59l7.78-7.78 2.81-2.81c.8-.78.8-2.07 0-2.86zM5.41 20L4 18.59l7.72-7.72 1.47 1.35L5.41 20z\"/>\n",
       "  </svg>\n",
       "      </button>\n",
       "      \n",
       "  <style>\n",
       "    .colab-df-container {\n",
       "      display:flex;\n",
       "      flex-wrap:wrap;\n",
       "      gap: 12px;\n",
       "    }\n",
       "\n",
       "    .colab-df-convert {\n",
       "      background-color: #E8F0FE;\n",
       "      border: none;\n",
       "      border-radius: 50%;\n",
       "      cursor: pointer;\n",
       "      display: none;\n",
       "      fill: #1967D2;\n",
       "      height: 32px;\n",
       "      padding: 0 0 0 0;\n",
       "      width: 32px;\n",
       "    }\n",
       "\n",
       "    .colab-df-convert:hover {\n",
       "      background-color: #E2EBFA;\n",
       "      box-shadow: 0px 1px 2px rgba(60, 64, 67, 0.3), 0px 1px 3px 1px rgba(60, 64, 67, 0.15);\n",
       "      fill: #174EA6;\n",
       "    }\n",
       "\n",
       "    [theme=dark] .colab-df-convert {\n",
       "      background-color: #3B4455;\n",
       "      fill: #D2E3FC;\n",
       "    }\n",
       "\n",
       "    [theme=dark] .colab-df-convert:hover {\n",
       "      background-color: #434B5C;\n",
       "      box-shadow: 0px 1px 3px 1px rgba(0, 0, 0, 0.15);\n",
       "      filter: drop-shadow(0px 1px 2px rgba(0, 0, 0, 0.3));\n",
       "      fill: #FFFFFF;\n",
       "    }\n",
       "  </style>\n",
       "\n",
       "      <script>\n",
       "        const buttonEl =\n",
       "          document.querySelector('#df-d1a07a9d-a99d-451d-b5be-60f2707ec9dc button.colab-df-convert');\n",
       "        buttonEl.style.display =\n",
       "          google.colab.kernel.accessAllowed ? 'block' : 'none';\n",
       "\n",
       "        async function convertToInteractive(key) {\n",
       "          const element = document.querySelector('#df-d1a07a9d-a99d-451d-b5be-60f2707ec9dc');\n",
       "          const dataTable =\n",
       "            await google.colab.kernel.invokeFunction('convertToInteractive',\n",
       "                                                     [key], {});\n",
       "          if (!dataTable) return;\n",
       "\n",
       "          const docLinkHtml = 'Like what you see? Visit the ' +\n",
       "            '<a target=\"_blank\" href=https://colab.research.google.com/notebooks/data_table.ipynb>data table notebook</a>'\n",
       "            + ' to learn more about interactive tables.';\n",
       "          element.innerHTML = '';\n",
       "          dataTable['output_type'] = 'display_data';\n",
       "          await google.colab.output.renderOutput(dataTable, element);\n",
       "          const docLink = document.createElement('div');\n",
       "          docLink.innerHTML = docLinkHtml;\n",
       "          element.appendChild(docLink);\n",
       "        }\n",
       "      </script>\n",
       "    </div>\n",
       "  </div>\n",
       "  "
      ],
      "text/plain": [
       "                   pd_id                                   ad_combined_text  \\\n",
       "0  pd-1000253160054572-4  Our movement achieved something amazing, we un...   \n",
       "1   pd-100131284943324-1  I’ve worked alongside Congressman Abraham and ...   \n",
       "2   pd-100140741454415-2  Chris Bish Candidate for California's 6th Cong...   \n",
       "3   pd-100147314821365-1  Texas Oil & Coal Economy Killer! Biden couldn’...   \n",
       "4   pd-100162588547085-1  New South Super PAC Community Change Voters VO...   \n",
       "\n",
       "   text_length  \n",
       "0        43277  \n",
       "1         6879  \n",
       "2         3023  \n",
       "3         9075  \n",
       "4         3479  "
      ]
     },
     "execution_count": 45,
     "metadata": {},
     "output_type": "execute_result"
    }
   ],
   "source": [
    "d_pdid_txt.head()"
   ]
  },
  {
   "cell_type": "code",
   "execution_count": null,
   "metadata": {
    "id": "Zgymqkj9eZAD"
   },
   "outputs": [],
   "source": [
    "train_pdid = train.merge(d_pdid_txt, how ='left', on='pd_id')"
   ]
  },
  {
   "cell_type": "code",
   "execution_count": null,
   "metadata": {
    "id": "jvc8HfPpg27V"
   },
   "outputs": [],
   "source": [
    "test_pdid = test.merge(d_pdid_txt, how ='left', on='pd_id')"
   ]
  },
  {
   "cell_type": "markdown",
   "metadata": {
    "id": "NXr6YUg6hHhM"
   },
   "source": [
    "#### MultinomialNB"
   ]
  },
  {
   "cell_type": "code",
   "execution_count": null,
   "metadata": {
    "id": "L2Q4x3p_hWK6"
   },
   "outputs": [],
   "source": [
    "from sklearn.naive_bayes import MultinomialNB"
   ]
  },
  {
   "cell_type": "code",
   "execution_count": null,
   "metadata": {
    "id": "bjm-YQKEhZP9"
   },
   "outputs": [],
   "source": [
    "mnb_clf = Pipeline([\n",
    "    ('vect', CountVectorizer()),\n",
    "    ('tfidf', TfidfTransformer()),\n",
    "    ('clf', MultinomialNB()),\n",
    "])"
   ]
  },
  {
   "cell_type": "code",
   "execution_count": null,
   "metadata": {
    "id": "GIJMISgmhb0h"
   },
   "outputs": [],
   "source": [
    "mnb_params = {\n",
    "    'vect__ngram_range': [(1, 1), (1, 2), (2, 2)],\n",
    "    'tfidf__use_idf': (True, False),\n",
    "    'tfidf__norm': ('l1', 'l2'),\n",
    "    'clf__alpha': [1, 1e-1, 1e-2]\n",
    "}"
   ]
  },
  {
   "cell_type": "code",
   "execution_count": null,
   "metadata": {
    "id": "cLJazPwihetZ"
   },
   "outputs": [],
   "source": [
    "mnb_grid = GridSearchCV(mnb_clf, mnb_params, cv=5, n_jobs=-1)"
   ]
  },
  {
   "cell_type": "code",
   "execution_count": null,
   "metadata": {
    "colab": {
     "base_uri": "https://localhost:8080/"
    },
    "id": "pTZgw6P7hgls",
    "outputId": "c0af8eea-0897-4068-9f89-bd58d16c647f"
   },
   "outputs": [
    {
     "data": {
      "text/plain": [
       "GridSearchCV(cv=5,\n",
       "             estimator=Pipeline(steps=[('vect', CountVectorizer()),\n",
       "                                       ('tfidf', TfidfTransformer()),\n",
       "                                       ('clf', MultinomialNB())]),\n",
       "             n_jobs=-1,\n",
       "             param_grid={'clf__alpha': [1, 0.1, 0.01],\n",
       "                         'tfidf__norm': ('l1', 'l2'),\n",
       "                         'tfidf__use_idf': (True, False),\n",
       "                         'vect__ngram_range': [(1, 1), (1, 2), (2, 2)]})"
      ]
     },
     "execution_count": 53,
     "metadata": {},
     "output_type": "execute_result"
    }
   ],
   "source": [
    "mnb_grid.fit(train_pdid['ad_combined_text'], train_pdid['party_all'])"
   ]
  },
  {
   "cell_type": "code",
   "execution_count": null,
   "metadata": {
    "colab": {
     "base_uri": "https://localhost:8080/"
    },
    "id": "6b17R3IfhHRE",
    "outputId": "0377ae35-9c02-4ef7-cfab-513611cd2c7e"
   },
   "outputs": [
    {
     "name": "stdout",
     "output_type": "stream",
     "text": [
      "Best Params:  {'clf__alpha': 0.01, 'tfidf__norm': 'l2', 'tfidf__use_idf': False, 'vect__ngram_range': (2, 2)}\n"
     ]
    }
   ],
   "source": [
    "print(\"Best Params: \", mnb_grid.best_params_)"
   ]
  },
  {
   "cell_type": "code",
   "execution_count": null,
   "metadata": {
    "colab": {
     "base_uri": "https://localhost:8080/"
    },
    "id": "VSZjIam6iACg",
    "outputId": "cc463e69-b260-4896-9a50-76f7d04ebede"
   },
   "outputs": [
    {
     "name": "stdout",
     "output_type": "stream",
     "text": [
      "              precision    recall  f1-score   support\n",
      "\n",
      "         DEM      0.862     0.956     0.907       274\n",
      "       OTHER      1.000     0.091     0.167        22\n",
      "         REP      0.900     0.855     0.877       200\n",
      "\n",
      "    accuracy                          0.877       496\n",
      "   macro avg      0.921     0.634     0.650       496\n",
      "weighted avg      0.883     0.877     0.862       496\n",
      "\n"
     ]
    }
   ],
   "source": [
    "print(metrics.classification_report(test_pdid['party_all'], mnb_grid.predict(test_pdid['ad_combined_text']), digits = 3))"
   ]
  },
  {
   "cell_type": "code",
   "execution_count": null,
   "metadata": {
    "colab": {
     "base_uri": "https://localhost:8080/"
    },
    "id": "3lTTx_HlLdTG",
    "outputId": "d5a4e652-6e70-46d1-cb29-845dcce98276"
   },
   "outputs": [
    {
     "data": {
      "text/plain": [
       "['/content/drive/Shareddrives/Delta Lab/Data/facebook_2020_party_all_pdid/party_clf_pdid_mnb.joblib']"
      ]
     },
     "execution_count": 56,
     "metadata": {},
     "output_type": "execute_result"
    }
   ],
   "source": [
    "# Save model to disk\n",
    "from joblib import dump, load\n",
    "\n",
    "dump(mnb_grid, '/content/drive/Shareddrives/Delta Lab/Data/facebook_2020_party_all_pdid/party_clf_pdid_mnb.joblib')"
   ]
  },
  {
   "cell_type": "markdown",
   "metadata": {
    "id": "SC2kz0oCijdM"
   },
   "source": [
    "#### Logistic regression"
   ]
  },
  {
   "cell_type": "code",
   "execution_count": null,
   "metadata": {
    "id": "0PHxIOvLilPq"
   },
   "outputs": [],
   "source": [
    "from sklearn.linear_model import LogisticRegression\n",
    "lr_clf = Pipeline([('vect', CountVectorizer()),\n",
    "                ('tfidf', TfidfTransformer()),\n",
    "                ('clf', LogisticRegression(max_iter=500)),\n",
    "               ])"
   ]
  },
  {
   "cell_type": "code",
   "execution_count": null,
   "metadata": {
    "id": "CQ0lvjkvinyQ"
   },
   "outputs": [],
   "source": [
    "lr_params = [{'clf__penalty': ['l2'],\n",
    "        'clf__C': [0.001, 0.01, 0.1, 1, 10, 100, 1000],\n",
    "        'clf__solver': ['newton-cg']}] "
   ]
  },
  {
   "cell_type": "code",
   "execution_count": null,
   "metadata": {
    "id": "zFVu7XDdiprF"
   },
   "outputs": [],
   "source": [
    "lr_grid = GridSearchCV(lr_clf, lr_params, cv=5, n_jobs=-1) "
   ]
  },
  {
   "cell_type": "code",
   "execution_count": null,
   "metadata": {
    "colab": {
     "base_uri": "https://localhost:8080/"
    },
    "id": "fvHXuWp7isg1",
    "outputId": "62cbabce-564f-4e83-d98e-f0de0af71823"
   },
   "outputs": [
    {
     "data": {
      "text/plain": [
       "GridSearchCV(cv=5,\n",
       "             estimator=Pipeline(steps=[('vect', CountVectorizer()),\n",
       "                                       ('tfidf', TfidfTransformer()),\n",
       "                                       ('clf',\n",
       "                                        LogisticRegression(max_iter=500))]),\n",
       "             n_jobs=-1,\n",
       "             param_grid=[{'clf__C': [0.001, 0.01, 0.1, 1, 10, 100, 1000],\n",
       "                          'clf__penalty': ['l2'],\n",
       "                          'clf__solver': ['newton-cg']}])"
      ]
     },
     "execution_count": 60,
     "metadata": {},
     "output_type": "execute_result"
    }
   ],
   "source": [
    "lr_grid.fit(train_pdid['ad_combined_text'], train_pdid['party_all'])"
   ]
  },
  {
   "cell_type": "code",
   "execution_count": null,
   "metadata": {
    "colab": {
     "base_uri": "https://localhost:8080/"
    },
    "id": "L1mgO6Z3JRZS",
    "outputId": "1278a64e-7121-413f-88f9-145e1f04c94b"
   },
   "outputs": [
    {
     "name": "stdout",
     "output_type": "stream",
     "text": [
      "Best Params:  {'clf__C': 100, 'clf__penalty': 'l2', 'clf__solver': 'newton-cg'}\n"
     ]
    }
   ],
   "source": [
    "print(\"Best Params: \", lr_grid.best_params_)"
   ]
  },
  {
   "cell_type": "code",
   "execution_count": null,
   "metadata": {
    "colab": {
     "base_uri": "https://localhost:8080/"
    },
    "id": "oBaeZLydiwzC",
    "outputId": "22b06aa7-e05e-4652-89e4-5a91c84ca73e"
   },
   "outputs": [
    {
     "name": "stdout",
     "output_type": "stream",
     "text": [
      "              precision    recall  f1-score   support\n",
      "\n",
      "         DEM      0.875     0.916     0.895       274\n",
      "       OTHER      1.000     0.318     0.483        22\n",
      "         REP      0.847     0.855     0.851       200\n",
      "\n",
      "    accuracy                          0.865       496\n",
      "   macro avg      0.907     0.696     0.743       496\n",
      "weighted avg      0.869     0.865     0.859       496\n",
      "\n"
     ]
    }
   ],
   "source": [
    "print(metrics.classification_report(test_pdid['party_all'], lr_grid.predict(test_pdid['ad_combined_text']), digits = 3))"
   ]
  },
  {
   "cell_type": "code",
   "execution_count": null,
   "metadata": {
    "colab": {
     "base_uri": "https://localhost:8080/"
    },
    "id": "O5N97b9VILYO",
    "outputId": "46c2dc64-bca1-4742-ecb0-356145579589"
   },
   "outputs": [
    {
     "data": {
      "text/plain": [
       "['/content/drive/Shareddrives/Delta Lab/Data/facebook_2020_party_all_pdid/party_clf_pdid_logit.joblib']"
      ]
     },
     "execution_count": 63,
     "metadata": {},
     "output_type": "execute_result"
    }
   ],
   "source": [
    "dump(lr_grid, '/content/drive/Shareddrives/Delta Lab/Data/facebook_2020_party_all_pdid/party_clf_pdid_logit.joblib')"
   ]
  },
  {
   "cell_type": "markdown",
   "metadata": {
    "id": "YU1OAPO-Is5f"
   },
   "source": [
    "#### SVM"
   ]
  },
  {
   "cell_type": "code",
   "execution_count": null,
   "metadata": {
    "id": "hhzMNjBYIsV6"
   },
   "outputs": [],
   "source": [
    "from sklearn.svm import SVC  "
   ]
  },
  {
   "cell_type": "code",
   "execution_count": null,
   "metadata": {
    "id": "PPUrQmIoI53N"
   },
   "outputs": [],
   "source": [
    "from sklearn.linear_model import SGDClassifier\n",
    "svm_clf = Pipeline([\n",
    "    ('vect', CountVectorizer()),\n",
    "    ('tfidf', TfidfTransformer()),\n",
    "    ('clf', SGDClassifier())])"
   ]
  },
  {
   "cell_type": "code",
   "execution_count": null,
   "metadata": {
    "id": "1lmccuXaI8Hu"
   },
   "outputs": [],
   "source": [
    "svm_params = {\n",
    "    'vect__ngram_range': [(1, 1), (1, 2)],\n",
    "    'tfidf__use_idf': (True, False),\n",
    "    'clf__alpha': (1e-2, 1e-3),\n",
    "}"
   ]
  },
  {
   "cell_type": "code",
   "execution_count": null,
   "metadata": {
    "id": "yspsbq2kI-Vs"
   },
   "outputs": [],
   "source": [
    "svm_grid = GridSearchCV(svm_clf, svm_params, cv=5, n_jobs=-1)"
   ]
  },
  {
   "cell_type": "code",
   "execution_count": null,
   "metadata": {
    "colab": {
     "base_uri": "https://localhost:8080/"
    },
    "id": "slWGi1jvJA-b",
    "outputId": "1fd3555d-2e07-4076-f5e3-574b6c6a32d6"
   },
   "outputs": [
    {
     "data": {
      "text/plain": [
       "GridSearchCV(cv=5,\n",
       "             estimator=Pipeline(steps=[('vect', CountVectorizer()),\n",
       "                                       ('tfidf', TfidfTransformer()),\n",
       "                                       ('clf', SGDClassifier())]),\n",
       "             n_jobs=-1,\n",
       "             param_grid={'clf__alpha': (0.01, 0.001),\n",
       "                         'tfidf__use_idf': (True, False),\n",
       "                         'vect__ngram_range': [(1, 1), (1, 2)]})"
      ]
     },
     "execution_count": 68,
     "metadata": {},
     "output_type": "execute_result"
    }
   ],
   "source": [
    "svm_grid.fit(train_pdid['ad_combined_text'], train_pdid['party_all'])"
   ]
  },
  {
   "cell_type": "code",
   "execution_count": null,
   "metadata": {
    "colab": {
     "base_uri": "https://localhost:8080/"
    },
    "id": "qCpOAcELJXsY",
    "outputId": "9b7540c1-1471-40ce-ebec-c411e92162a6"
   },
   "outputs": [
    {
     "name": "stdout",
     "output_type": "stream",
     "text": [
      "Best Params:  {'clf__alpha': 0.001, 'tfidf__use_idf': False, 'vect__ngram_range': (1, 2)}\n"
     ]
    }
   ],
   "source": [
    "print(\"Best Params: \", svm_grid.best_params_)"
   ]
  },
  {
   "cell_type": "code",
   "execution_count": null,
   "metadata": {
    "colab": {
     "base_uri": "https://localhost:8080/"
    },
    "id": "97poHLfuJJbM",
    "outputId": "877824ac-8490-46f3-a446-d49418098963"
   },
   "outputs": [
    {
     "name": "stdout",
     "output_type": "stream",
     "text": [
      "              precision    recall  f1-score   support\n",
      "\n",
      "         DEM      0.832     0.938     0.882       274\n",
      "       OTHER      1.000     0.045     0.087        22\n",
      "         REP      0.866     0.805     0.834       200\n",
      "\n",
      "    accuracy                          0.845       496\n",
      "   macro avg      0.899     0.596     0.601       496\n",
      "weighted avg      0.853     0.845     0.827       496\n",
      "\n"
     ]
    }
   ],
   "source": [
    "print(metrics.classification_report(test_pdid['party_all'], svm_grid.predict(test_pdid['ad_combined_text']), digits = 3))"
   ]
  },
  {
   "cell_type": "code",
   "execution_count": null,
   "metadata": {
    "colab": {
     "base_uri": "https://localhost:8080/"
    },
    "id": "Y00AlYKtJcr6",
    "outputId": "e8b2bab3-b452-4da8-f152-9c7da76a9370"
   },
   "outputs": [
    {
     "data": {
      "text/plain": [
       "['/content/drive/Shareddrives/Delta Lab/Data/facebook_2020_party_all_pdid/party_clf_pdid_svm.joblib']"
      ]
     },
     "execution_count": 71,
     "metadata": {},
     "output_type": "execute_result"
    }
   ],
   "source": [
    "# save the model to disk\n",
    "dump(svm_grid, '/content/drive/Shareddrives/Delta Lab/Data/facebook_2020_party_all_pdid/party_clf_pdid_svm.joblib')"
   ]
  }
 ],
 "metadata": {
  "colab": {
   "name": "party_clf_entity_06142022.ipynb",
   "provenance": [],
   "toc_visible": true
  },
  "kernelspec": {
   "display_name": "Python 3",
   "language": "python",
   "name": "python3"
  },
  "language_info": {
   "codemirror_mode": {
    "name": "ipython",
    "version": 3
   },
   "file_extension": ".py",
   "mimetype": "text/x-python",
   "name": "python",
   "nbconvert_exporter": "python",
   "pygments_lexer": "ipython3",
   "version": "3.8.5"
  }
 },
 "nbformat": 4,
 "nbformat_minor": 1
}
