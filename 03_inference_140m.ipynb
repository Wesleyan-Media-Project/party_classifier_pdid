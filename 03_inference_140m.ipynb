{
 "cells": [
  {
   "cell_type": "markdown",
   "metadata": {
    "id": "09Pn6jK9Xwmj"
   },
   "source": [
    "### Apply party_all_entity_clf to all entities in the 1.4m dataset"
   ]
  },
  {
   "cell_type": "code",
   "execution_count": 1,
   "metadata": {
    "colab": {
     "background_save": true
    },
    "id": "B6iWSITmYNQz"
   },
   "outputs": [],
   "source": [
    "import pandas as pd\n",
    "from joblib import load"
   ]
  },
  {
   "cell_type": "code",
   "execution_count": 2,
   "metadata": {
    "colab": {
     "background_save": true
    },
    "id": "hmHIW5rNXwOW",
    "scrolled": true
   },
   "outputs": [],
   "source": [
    "d = pd.read_csv('../fb_2020/fb_2020_140m_adid_text_clean.csv.gz')"
   ]
  },
  {
   "cell_type": "code",
   "execution_count": 3,
   "metadata": {},
   "outputs": [],
   "source": [
    "pdid = pd.read_csv('../fb_2020/fb_2020_140m_adid_var1.csv.gz', usecols=['ad_id', 'pd_id'])"
   ]
  },
  {
   "cell_type": "code",
   "execution_count": 4,
   "metadata": {},
   "outputs": [],
   "source": [
    "d = d.merge(pdid, on='ad_id', how='left')"
   ]
  },
  {
   "cell_type": "code",
   "execution_count": 5,
   "metadata": {
    "colab": {
     "background_save": true
    },
    "id": "I_i7sv-X-VGy",
    "outputId": "980c76ea-3ae7-422b-bd8c-b22d56b8d45a"
   },
   "outputs": [
    {
     "data": {
      "text/html": [
       "<div>\n",
       "<style scoped>\n",
       "    .dataframe tbody tr th:only-of-type {\n",
       "        vertical-align: middle;\n",
       "    }\n",
       "\n",
       "    .dataframe tbody tr th {\n",
       "        vertical-align: top;\n",
       "    }\n",
       "\n",
       "    .dataframe thead th {\n",
       "        text-align: right;\n",
       "    }\n",
       "</style>\n",
       "<table border=\"1\" class=\"dataframe\">\n",
       "  <thead>\n",
       "    <tr style=\"text-align: right;\">\n",
       "      <th></th>\n",
       "      <th>ad_id</th>\n",
       "      <th>page_name</th>\n",
       "      <th>disclaimer</th>\n",
       "      <th>ad_creative_body</th>\n",
       "      <th>ad_snapshot_url</th>\n",
       "      <th>ad_creative_link_caption</th>\n",
       "      <th>ad_creative_link_title</th>\n",
       "      <th>ad_creative_link_description</th>\n",
       "      <th>google_asr_text</th>\n",
       "      <th>aws_ocr_text</th>\n",
       "      <th>pd_id</th>\n",
       "    </tr>\n",
       "  </thead>\n",
       "  <tbody>\n",
       "    <tr>\n",
       "      <th>0</th>\n",
       "      <td>x999618737203554</td>\n",
       "      <td>Texas Organizing Project</td>\n",
       "      <td>TEXAS ORGANIZING PROJECT POLITICAL ACTION COMM...</td>\n",
       "      <td>Early voting is here and we have the special o...</td>\n",
       "      <td>https://www.facebook.com/ads/library/?id=99961...</td>\n",
       "      <td>TOPpac.org TOPpac.org TOPpac.org TOPpac.org TO...</td>\n",
       "      <td>Texas Organizing Project</td>\n",
       "      <td>NaN</td>\n",
       "      <td>NaN</td>\n",
       "      <td>Genesis Draper. County Criminal Court No. 12. ...</td>\n",
       "      <td>pd-124974587580398-7</td>\n",
       "    </tr>\n",
       "    <tr>\n",
       "      <th>1</th>\n",
       "      <td>x387950208912185</td>\n",
       "      <td>League of Conservation Voters</td>\n",
       "      <td>League of Conservation Voters Education Fund</td>\n",
       "      <td>Our communities are burning. Our air is unbrea...</td>\n",
       "      <td>https://www.facebook.com/ads/library/?id=38795...</td>\n",
       "      <td>fb.me</td>\n",
       "      <td>DEMAND Climate Action Now</td>\n",
       "      <td>Goal: 5,000 actions by Sunday</td>\n",
       "      <td>NaN</td>\n",
       "      <td>I</td>\n",
       "      <td>pd-16477459734-5</td>\n",
       "    </tr>\n",
       "    <tr>\n",
       "      <th>2</th>\n",
       "      <td>x261774408593130</td>\n",
       "      <td>BlackPAC</td>\n",
       "      <td>Black PAC</td>\n",
       "      <td>We are better than this. It is time for us to ...</td>\n",
       "      <td>https://www.facebook.com/ads/library/?id=26177...</td>\n",
       "      <td>www.blackfloridavote.com</td>\n",
       "      <td>Vote Early</td>\n",
       "      <td>Make A Plan Today</td>\n",
       "      <td>We're experiencing a moral Reckoning with raci...</td>\n",
       "      <td>NaN</td>\n",
       "      <td>pd-504161563089343-5</td>\n",
       "    </tr>\n",
       "    <tr>\n",
       "      <th>3</th>\n",
       "      <td>x636161653936319</td>\n",
       "      <td>Better PA</td>\n",
       "      <td>Better Pennsylvania, Inc.</td>\n",
       "      <td>Just like your parents told you, patience is a...</td>\n",
       "      <td>https://www.facebook.com/ads/library/?id=63616...</td>\n",
       "      <td>NaN</td>\n",
       "      <td>NaN</td>\n",
       "      <td>NaN</td>\n",
       "      <td>NaN</td>\n",
       "      <td>NaN</td>\n",
       "      <td>pd-112378316832885-1</td>\n",
       "    </tr>\n",
       "    <tr>\n",
       "      <th>4</th>\n",
       "      <td>x405984460395245</td>\n",
       "      <td>Florida Democratic Party</td>\n",
       "      <td>Florida Democratic Party</td>\n",
       "      <td>NaN</td>\n",
       "      <td>https://www.facebook.com/ads/library/?id=40598...</td>\n",
       "      <td>FloridaDems.org</td>\n",
       "      <td>NaN</td>\n",
       "      <td>NaN</td>\n",
       "      <td>NaN</td>\n",
       "      <td>NaN</td>\n",
       "      <td>pd-7833534974-3</td>\n",
       "    </tr>\n",
       "  </tbody>\n",
       "</table>\n",
       "</div>"
      ],
      "text/plain": [
       "              ad_id                      page_name  \\\n",
       "0  x999618737203554       Texas Organizing Project   \n",
       "1  x387950208912185  League of Conservation Voters   \n",
       "2  x261774408593130                       BlackPAC   \n",
       "3  x636161653936319                      Better PA   \n",
       "4  x405984460395245       Florida Democratic Party   \n",
       "\n",
       "                                          disclaimer  \\\n",
       "0  TEXAS ORGANIZING PROJECT POLITICAL ACTION COMM...   \n",
       "1       League of Conservation Voters Education Fund   \n",
       "2                                          Black PAC   \n",
       "3                          Better Pennsylvania, Inc.   \n",
       "4                           Florida Democratic Party   \n",
       "\n",
       "                                    ad_creative_body  \\\n",
       "0  Early voting is here and we have the special o...   \n",
       "1  Our communities are burning. Our air is unbrea...   \n",
       "2  We are better than this. It is time for us to ...   \n",
       "3  Just like your parents told you, patience is a...   \n",
       "4                                                NaN   \n",
       "\n",
       "                                     ad_snapshot_url  \\\n",
       "0  https://www.facebook.com/ads/library/?id=99961...   \n",
       "1  https://www.facebook.com/ads/library/?id=38795...   \n",
       "2  https://www.facebook.com/ads/library/?id=26177...   \n",
       "3  https://www.facebook.com/ads/library/?id=63616...   \n",
       "4  https://www.facebook.com/ads/library/?id=40598...   \n",
       "\n",
       "                            ad_creative_link_caption  \\\n",
       "0  TOPpac.org TOPpac.org TOPpac.org TOPpac.org TO...   \n",
       "1                                              fb.me   \n",
       "2                           www.blackfloridavote.com   \n",
       "3                                                NaN   \n",
       "4                                    FloridaDems.org   \n",
       "\n",
       "      ad_creative_link_title   ad_creative_link_description  \\\n",
       "0   Texas Organizing Project                            NaN   \n",
       "1  DEMAND Climate Action Now  Goal: 5,000 actions by Sunday   \n",
       "2                 Vote Early              Make A Plan Today   \n",
       "3                        NaN                            NaN   \n",
       "4                        NaN                            NaN   \n",
       "\n",
       "                                     google_asr_text  \\\n",
       "0                                                NaN   \n",
       "1                                                NaN   \n",
       "2  We're experiencing a moral Reckoning with raci...   \n",
       "3                                                NaN   \n",
       "4                                                NaN   \n",
       "\n",
       "                                        aws_ocr_text                 pd_id  \n",
       "0  Genesis Draper. County Criminal Court No. 12. ...  pd-124974587580398-7  \n",
       "1                                                  I      pd-16477459734-5  \n",
       "2                                                NaN  pd-504161563089343-5  \n",
       "3                                                NaN  pd-112378316832885-1  \n",
       "4                                                NaN       pd-7833534974-3  "
      ]
     },
     "execution_count": 5,
     "metadata": {},
     "output_type": "execute_result"
    }
   ],
   "source": [
    "d.head()"
   ]
  },
  {
   "cell_type": "markdown",
   "metadata": {
    "id": "10uTZsb3lHf5"
   },
   "source": [
    "### Prepare text for inference"
   ]
  },
  {
   "cell_type": "code",
   "execution_count": 6,
   "metadata": {},
   "outputs": [],
   "source": [
    "cols = ['disclaimer', 'page_name', 'ad_creative_body', 'ad_creative_link_caption', 'ad_creative_link_description', 'ad_creative_link_title', 'aws_ocr_text', 'google_asr_text']\n",
    "d['ad_combined_text'] = d[cols].apply(lambda row: ' '.join(row.values.astype(str)), axis=1)"
   ]
  },
  {
   "cell_type": "code",
   "execution_count": 7,
   "metadata": {},
   "outputs": [
    {
     "data": {
      "text/plain": [
       "(1404005, 12)"
      ]
     },
     "execution_count": 7,
     "metadata": {},
     "output_type": "execute_result"
    }
   ],
   "source": [
    "d.shape"
   ]
  },
  {
   "cell_type": "code",
   "execution_count": 8,
   "metadata": {},
   "outputs": [
    {
     "data": {
      "text/plain": [
       "15164"
      ]
     },
     "execution_count": 8,
     "metadata": {},
     "output_type": "execute_result"
    }
   ],
   "source": [
    "len(d.pd_id.unique())"
   ]
  },
  {
   "cell_type": "code",
   "execution_count": 9,
   "metadata": {
    "id": "0zyR7ltTZtmp"
   },
   "outputs": [],
   "source": [
    "# Deduplicate before concatenate ad texts\n",
    "dd = d.drop_duplicates(subset=['pd_id','ad_combined_text'], keep='last')"
   ]
  },
  {
   "cell_type": "code",
   "execution_count": 10,
   "metadata": {},
   "outputs": [
    {
     "data": {
      "text/plain": [
       "(277519, 12)"
      ]
     },
     "execution_count": 10,
     "metadata": {},
     "output_type": "execute_result"
    }
   ],
   "source": [
    "dd.shape"
   ]
  },
  {
   "cell_type": "code",
   "execution_count": 11,
   "metadata": {},
   "outputs": [
    {
     "data": {
      "text/html": [
       "<div>\n",
       "<style scoped>\n",
       "    .dataframe tbody tr th:only-of-type {\n",
       "        vertical-align: middle;\n",
       "    }\n",
       "\n",
       "    .dataframe tbody tr th {\n",
       "        vertical-align: top;\n",
       "    }\n",
       "\n",
       "    .dataframe thead th {\n",
       "        text-align: right;\n",
       "    }\n",
       "</style>\n",
       "<table border=\"1\" class=\"dataframe\">\n",
       "  <thead>\n",
       "    <tr style=\"text-align: right;\">\n",
       "      <th></th>\n",
       "      <th>ad_id</th>\n",
       "      <th>page_name</th>\n",
       "      <th>disclaimer</th>\n",
       "      <th>ad_creative_body</th>\n",
       "      <th>ad_snapshot_url</th>\n",
       "      <th>ad_creative_link_caption</th>\n",
       "      <th>ad_creative_link_title</th>\n",
       "      <th>ad_creative_link_description</th>\n",
       "      <th>google_asr_text</th>\n",
       "      <th>aws_ocr_text</th>\n",
       "      <th>pd_id</th>\n",
       "      <th>ad_combined_text</th>\n",
       "    </tr>\n",
       "  </thead>\n",
       "  <tbody>\n",
       "    <tr>\n",
       "      <th>0</th>\n",
       "      <td>x999618737203554</td>\n",
       "      <td>Texas Organizing Project</td>\n",
       "      <td>TEXAS ORGANIZING PROJECT POLITICAL ACTION COMM...</td>\n",
       "      <td>Early voting is here and we have the special o...</td>\n",
       "      <td>https://www.facebook.com/ads/library/?id=99961...</td>\n",
       "      <td>TOPpac.org TOPpac.org TOPpac.org TOPpac.org TO...</td>\n",
       "      <td>Texas Organizing Project</td>\n",
       "      <td>NaN</td>\n",
       "      <td>NaN</td>\n",
       "      <td>Genesis Draper. County Criminal Court No. 12. ...</td>\n",
       "      <td>pd-124974587580398-7</td>\n",
       "      <td>TEXAS ORGANIZING PROJECT POLITICAL ACTION COMM...</td>\n",
       "    </tr>\n",
       "    <tr>\n",
       "      <th>8</th>\n",
       "      <td>x1298334053850238</td>\n",
       "      <td>Rick Bennett for Senate</td>\n",
       "      <td>Rick Bennett for Senate</td>\n",
       "      <td>Twenty years ago, I was unanimously elected St...</td>\n",
       "      <td>https://www.facebook.com/ads/library/?id=12983...</td>\n",
       "      <td>rickbennett.org</td>\n",
       "      <td>Common Sense and Common Ground</td>\n",
       "      <td>Candidate for Maine State Senate District 19</td>\n",
       "      <td>NaN</td>\n",
       "      <td>EDMONDS MILLS TURNER. FERGUSON MITCHELL WOODCO...</td>\n",
       "      <td>pd-105383080873129-1</td>\n",
       "      <td>Rick Bennett for Senate Rick Bennett for Senat...</td>\n",
       "    </tr>\n",
       "    <tr>\n",
       "      <th>16</th>\n",
       "      <td>x352464732653623</td>\n",
       "      <td>Realtors for Ben McAdams</td>\n",
       "      <td>National Association of REALTORS</td>\n",
       "      <td>Utah REALTORS® have a champion in Ben McAdams....</td>\n",
       "      <td>https://www.facebook.com/ads/library/?id=35246...</td>\n",
       "      <td>realtorsformcadams.com</td>\n",
       "      <td>Vote McAdams November 3</td>\n",
       "      <td>Click here to learn more &gt;&gt;</td>\n",
       "      <td>NaN</td>\n",
       "      <td>NaN</td>\n",
       "      <td>pd-107849021067647-1</td>\n",
       "      <td>National Association of REALTORS Realtors for ...</td>\n",
       "    </tr>\n",
       "    <tr>\n",
       "      <th>19</th>\n",
       "      <td>x3079465968824749</td>\n",
       "      <td>Doug Collins</td>\n",
       "      <td>COLLINS FOR SENATE, INC.</td>\n",
       "      <td>CLEVELAND: I'm hitting the road with fellow Tr...</td>\n",
       "      <td>https://www.facebook.com/ads/library/?id=30794...</td>\n",
       "      <td>Meet Trump Defender Doug Collins w/Special Gue...</td>\n",
       "      <td>Meet Trump Defender Doug Collins w/Special Gue...</td>\n",
       "      <td>89 E Jarrard St, Cleveland, GA 30528-1228, Uni...</td>\n",
       "      <td>NaN</td>\n",
       "      <td>Collins. TRUMP DEFENDER. STATEWIDE TOUR</td>\n",
       "      <td>pd-253791814655400-5</td>\n",
       "      <td>COLLINS FOR SENATE, INC. Doug Collins CLEVELAN...</td>\n",
       "    </tr>\n",
       "    <tr>\n",
       "      <th>23</th>\n",
       "      <td>x813228526100156</td>\n",
       "      <td>Jennifer Pawlik</td>\n",
       "      <td>Jennifer Pawlik for AZ House. Authorized by Je...</td>\n",
       "      <td>The last day to mail ballots is October 27. Yo...</td>\n",
       "      <td>https://www.facebook.com/ads/library/?id=81322...</td>\n",
       "      <td>NaN</td>\n",
       "      <td>NaN</td>\n",
       "      <td>NaN</td>\n",
       "      <td>NaN</td>\n",
       "      <td>Vote or Return Your. Ballot for Jennifer. Pawl...</td>\n",
       "      <td>pd-153755258313622-1</td>\n",
       "      <td>Jennifer Pawlik for AZ House. Authorized by Je...</td>\n",
       "    </tr>\n",
       "  </tbody>\n",
       "</table>\n",
       "</div>"
      ],
      "text/plain": [
       "                ad_id                 page_name  \\\n",
       "0    x999618737203554  Texas Organizing Project   \n",
       "8   x1298334053850238   Rick Bennett for Senate   \n",
       "16   x352464732653623  Realtors for Ben McAdams   \n",
       "19  x3079465968824749              Doug Collins   \n",
       "23   x813228526100156           Jennifer Pawlik   \n",
       "\n",
       "                                           disclaimer  \\\n",
       "0   TEXAS ORGANIZING PROJECT POLITICAL ACTION COMM...   \n",
       "8                             Rick Bennett for Senate   \n",
       "16                   National Association of REALTORS   \n",
       "19                           COLLINS FOR SENATE, INC.   \n",
       "23  Jennifer Pawlik for AZ House. Authorized by Je...   \n",
       "\n",
       "                                     ad_creative_body  \\\n",
       "0   Early voting is here and we have the special o...   \n",
       "8   Twenty years ago, I was unanimously elected St...   \n",
       "16  Utah REALTORS® have a champion in Ben McAdams....   \n",
       "19  CLEVELAND: I'm hitting the road with fellow Tr...   \n",
       "23  The last day to mail ballots is October 27. Yo...   \n",
       "\n",
       "                                      ad_snapshot_url  \\\n",
       "0   https://www.facebook.com/ads/library/?id=99961...   \n",
       "8   https://www.facebook.com/ads/library/?id=12983...   \n",
       "16  https://www.facebook.com/ads/library/?id=35246...   \n",
       "19  https://www.facebook.com/ads/library/?id=30794...   \n",
       "23  https://www.facebook.com/ads/library/?id=81322...   \n",
       "\n",
       "                             ad_creative_link_caption  \\\n",
       "0   TOPpac.org TOPpac.org TOPpac.org TOPpac.org TO...   \n",
       "8                                     rickbennett.org   \n",
       "16                             realtorsformcadams.com   \n",
       "19  Meet Trump Defender Doug Collins w/Special Gue...   \n",
       "23                                                NaN   \n",
       "\n",
       "                               ad_creative_link_title  \\\n",
       "0                            Texas Organizing Project   \n",
       "8                      Common Sense and Common Ground   \n",
       "16                            Vote McAdams November 3   \n",
       "19  Meet Trump Defender Doug Collins w/Special Gue...   \n",
       "23                                                NaN   \n",
       "\n",
       "                         ad_creative_link_description google_asr_text  \\\n",
       "0                                                 NaN             NaN   \n",
       "8        Candidate for Maine State Senate District 19             NaN   \n",
       "16                        Click here to learn more >>             NaN   \n",
       "19  89 E Jarrard St, Cleveland, GA 30528-1228, Uni...             NaN   \n",
       "23                                                NaN             NaN   \n",
       "\n",
       "                                         aws_ocr_text                 pd_id  \\\n",
       "0   Genesis Draper. County Criminal Court No. 12. ...  pd-124974587580398-7   \n",
       "8   EDMONDS MILLS TURNER. FERGUSON MITCHELL WOODCO...  pd-105383080873129-1   \n",
       "16                                                NaN  pd-107849021067647-1   \n",
       "19            Collins. TRUMP DEFENDER. STATEWIDE TOUR  pd-253791814655400-5   \n",
       "23  Vote or Return Your. Ballot for Jennifer. Pawl...  pd-153755258313622-1   \n",
       "\n",
       "                                     ad_combined_text  \n",
       "0   TEXAS ORGANIZING PROJECT POLITICAL ACTION COMM...  \n",
       "8   Rick Bennett for Senate Rick Bennett for Senat...  \n",
       "16  National Association of REALTORS Realtors for ...  \n",
       "19  COLLINS FOR SENATE, INC. Doug Collins CLEVELAN...  \n",
       "23  Jennifer Pawlik for AZ House. Authorized by Je...  "
      ]
     },
     "execution_count": 11,
     "metadata": {},
     "output_type": "execute_result"
    }
   ],
   "source": [
    "dd.head()"
   ]
  },
  {
   "cell_type": "code",
   "execution_count": 12,
   "metadata": {
    "id": "SEegZoxUbmWQ"
   },
   "outputs": [],
   "source": [
    "d_pdid_txt = dd.groupby(['pd_id'])['ad_combined_text'].apply(lambda x: ' '.join(x)).reset_index()"
   ]
  },
  {
   "cell_type": "code",
   "execution_count": 13,
   "metadata": {
    "colab": {
     "base_uri": "https://localhost:8080/",
     "height": 206
    },
    "id": "BD83ljcodpWD",
    "outputId": "3e586751-8aec-4531-a178-1a2dc5396182"
   },
   "outputs": [
    {
     "data": {
      "text/html": [
       "<div>\n",
       "<style scoped>\n",
       "    .dataframe tbody tr th:only-of-type {\n",
       "        vertical-align: middle;\n",
       "    }\n",
       "\n",
       "    .dataframe tbody tr th {\n",
       "        vertical-align: top;\n",
       "    }\n",
       "\n",
       "    .dataframe thead th {\n",
       "        text-align: right;\n",
       "    }\n",
       "</style>\n",
       "<table border=\"1\" class=\"dataframe\">\n",
       "  <thead>\n",
       "    <tr style=\"text-align: right;\">\n",
       "      <th></th>\n",
       "      <th>pd_id</th>\n",
       "      <th>ad_combined_text</th>\n",
       "    </tr>\n",
       "  </thead>\n",
       "  <tbody>\n",
       "    <tr>\n",
       "      <th>0</th>\n",
       "      <td>pd-1000079383451499-1</td>\n",
       "      <td>George A Jackson Defender Association of Phila...</td>\n",
       "    </tr>\n",
       "    <tr>\n",
       "      <th>1</th>\n",
       "      <td>pd-1000253160054572-4</td>\n",
       "      <td>CORI BUSH FOR CONGRESS Cori Bush I didn’t run ...</td>\n",
       "    </tr>\n",
       "    <tr>\n",
       "      <th>2</th>\n",
       "      <td>pd-1000359586797421-2</td>\n",
       "      <td>Devine For Judge Devine For Judge Judge Josh D...</td>\n",
       "    </tr>\n",
       "    <tr>\n",
       "      <th>3</th>\n",
       "      <td>pd-100053898949-2</td>\n",
       "      <td>MONTANA REPUBLICAN STATE CENTRAL COMMITTEE Mon...</td>\n",
       "    </tr>\n",
       "    <tr>\n",
       "      <th>4</th>\n",
       "      <td>pd-1000723093289140-1</td>\n",
       "      <td>These ads ran without a disclaimer Ombudsman S...</td>\n",
       "    </tr>\n",
       "  </tbody>\n",
       "</table>\n",
       "</div>"
      ],
      "text/plain": [
       "                   pd_id                                   ad_combined_text\n",
       "0  pd-1000079383451499-1  George A Jackson Defender Association of Phila...\n",
       "1  pd-1000253160054572-4  CORI BUSH FOR CONGRESS Cori Bush I didn’t run ...\n",
       "2  pd-1000359586797421-2  Devine For Judge Devine For Judge Judge Josh D...\n",
       "3      pd-100053898949-2  MONTANA REPUBLICAN STATE CENTRAL COMMITTEE Mon...\n",
       "4  pd-1000723093289140-1  These ads ran without a disclaimer Ombudsman S..."
      ]
     },
     "execution_count": 13,
     "metadata": {},
     "output_type": "execute_result"
    }
   ],
   "source": [
    "d_pdid_txt.head()"
   ]
  },
  {
   "cell_type": "markdown",
   "metadata": {
    "id": "_xKZcDhSJ_YB"
   },
   "source": [
    "### Make influence\n"
   ]
  },
  {
   "cell_type": "code",
   "execution_count": 14,
   "metadata": {
    "id": "Wi4i96v4TIHe"
   },
   "outputs": [
    {
     "name": "stderr",
     "output_type": "stream",
     "text": [
      "/software/anaconda3/lib/python3.7/site-packages/sklearn/base.py:334: UserWarning: Trying to unpickle estimator CountVectorizer from version 1.0.2 when using version 0.23.1. This might lead to breaking code or invalid results. Use at your own risk.\n",
      "  UserWarning)\n",
      "/software/anaconda3/lib/python3.7/site-packages/sklearn/base.py:334: UserWarning: Trying to unpickle estimator TfidfTransformer from version 1.0.2 when using version 0.23.1. This might lead to breaking code or invalid results. Use at your own risk.\n",
      "  UserWarning)\n",
      "/software/anaconda3/lib/python3.7/site-packages/sklearn/base.py:334: UserWarning: Trying to unpickle estimator MultinomialNB from version 1.0.2 when using version 0.23.1. This might lead to breaking code or invalid results. Use at your own risk.\n",
      "  UserWarning)\n",
      "/software/anaconda3/lib/python3.7/site-packages/sklearn/base.py:334: UserWarning: Trying to unpickle estimator Pipeline from version 1.0.2 when using version 0.23.1. This might lead to breaking code or invalid results. Use at your own risk.\n",
      "  UserWarning)\n",
      "/software/anaconda3/lib/python3.7/site-packages/sklearn/base.py:334: UserWarning: Trying to unpickle estimator GridSearchCV from version 1.0.2 when using version 0.23.1. This might lead to breaking code or invalid results. Use at your own risk.\n",
      "  UserWarning)\n"
     ]
    }
   ],
   "source": [
    "# Load the model weights\n",
    "mnb_clf = load('party_clf_pdid_mnb.joblib')"
   ]
  },
  {
   "cell_type": "code",
   "execution_count": 15,
   "metadata": {
    "id": "7-4YFZU9TcUu"
   },
   "outputs": [],
   "source": [
    "pred = mnb_clf.predict(d_pdid_txt['ad_combined_text'])"
   ]
  },
  {
   "cell_type": "code",
   "execution_count": 16,
   "metadata": {
    "id": "hNeoewGTT9Q7"
   },
   "outputs": [],
   "source": [
    "d_pdid_txt['party_all_clf_pdid'] = pred"
   ]
  },
  {
   "cell_type": "code",
   "execution_count": 17,
   "metadata": {
    "id": "WwFTAL2teDAC"
   },
   "outputs": [],
   "source": [
    "d_pdid_txt = d_pdid_txt[['pd_id', 'party_all_clf_pdid']]"
   ]
  },
  {
   "cell_type": "code",
   "execution_count": 18,
   "metadata": {
    "colab": {
     "base_uri": "https://localhost:8080/",
     "height": 206
    },
    "id": "LaL2r6MedxdN",
    "outputId": "4379e930-99af-4dcd-a90d-ce48fa2dd86e"
   },
   "outputs": [
    {
     "data": {
      "text/html": [
       "<div>\n",
       "<style scoped>\n",
       "    .dataframe tbody tr th:only-of-type {\n",
       "        vertical-align: middle;\n",
       "    }\n",
       "\n",
       "    .dataframe tbody tr th {\n",
       "        vertical-align: top;\n",
       "    }\n",
       "\n",
       "    .dataframe thead th {\n",
       "        text-align: right;\n",
       "    }\n",
       "</style>\n",
       "<table border=\"1\" class=\"dataframe\">\n",
       "  <thead>\n",
       "    <tr style=\"text-align: right;\">\n",
       "      <th></th>\n",
       "      <th>pd_id</th>\n",
       "      <th>party_all_clf_pdid</th>\n",
       "    </tr>\n",
       "  </thead>\n",
       "  <tbody>\n",
       "    <tr>\n",
       "      <th>0</th>\n",
       "      <td>pd-1000079383451499-1</td>\n",
       "      <td>DEM</td>\n",
       "    </tr>\n",
       "    <tr>\n",
       "      <th>1</th>\n",
       "      <td>pd-1000253160054572-4</td>\n",
       "      <td>DEM</td>\n",
       "    </tr>\n",
       "    <tr>\n",
       "      <th>2</th>\n",
       "      <td>pd-1000359586797421-2</td>\n",
       "      <td>REP</td>\n",
       "    </tr>\n",
       "    <tr>\n",
       "      <th>3</th>\n",
       "      <td>pd-100053898949-2</td>\n",
       "      <td>REP</td>\n",
       "    </tr>\n",
       "    <tr>\n",
       "      <th>4</th>\n",
       "      <td>pd-1000723093289140-1</td>\n",
       "      <td>DEM</td>\n",
       "    </tr>\n",
       "  </tbody>\n",
       "</table>\n",
       "</div>"
      ],
      "text/plain": [
       "                   pd_id party_all_clf_pdid\n",
       "0  pd-1000079383451499-1                DEM\n",
       "1  pd-1000253160054572-4                DEM\n",
       "2  pd-1000359586797421-2                REP\n",
       "3      pd-100053898949-2                REP\n",
       "4  pd-1000723093289140-1                DEM"
      ]
     },
     "execution_count": 18,
     "metadata": {},
     "output_type": "execute_result"
    }
   ],
   "source": [
    "d_pdid_txt.head()"
   ]
  },
  {
   "cell_type": "code",
   "execution_count": 19,
   "metadata": {
    "colab": {
     "base_uri": "https://localhost:8080/"
    },
    "id": "mpzRmBkweMkf",
    "outputId": "eee1fd0a-8e21-4c27-aa96-29b1d494459b"
   },
   "outputs": [
    {
     "data": {
      "text/plain": [
       "DEM      10223\n",
       "REP       4828\n",
       "OTHER      113\n",
       "Name: party_all_clf_pdid, dtype: int64"
      ]
     },
     "execution_count": 19,
     "metadata": {},
     "output_type": "execute_result"
    }
   ],
   "source": [
    "d_pdid_txt.party_all_clf_pdid.value_counts()"
   ]
  },
  {
   "cell_type": "code",
   "execution_count": 20,
   "metadata": {},
   "outputs": [
    {
     "data": {
      "text/plain": [
       "(15164, 2)"
      ]
     },
     "execution_count": 20,
     "metadata": {},
     "output_type": "execute_result"
    }
   ],
   "source": [
    "d_pdid_txt.shape"
   ]
  },
  {
   "cell_type": "code",
   "execution_count": 21,
   "metadata": {
    "id": "lQDe6WRqdyOj"
   },
   "outputs": [],
   "source": [
    "d_pdid_txt.to_csv(\"party_all_clf_pdid_fb_2020_140m.csv\", index=False)"
   ]
  },
  {
   "cell_type": "code",
   "execution_count": null,
   "metadata": {},
   "outputs": [],
   "source": []
  }
 ],
 "metadata": {
  "colab": {
   "name": "party_clf_entity_06142022.ipynb",
   "provenance": [],
   "toc_visible": true
  },
  "kernelspec": {
   "display_name": "Python 3",
   "language": "python",
   "name": "python3"
  },
  "language_info": {
   "codemirror_mode": {
    "name": "ipython",
    "version": 3
   },
   "file_extension": ".py",
   "mimetype": "text/x-python",
   "name": "python",
   "nbconvert_exporter": "python",
   "pygments_lexer": "ipython3",
   "version": "3.7.7"
  }
 },
 "nbformat": 4,
 "nbformat_minor": 1
}
