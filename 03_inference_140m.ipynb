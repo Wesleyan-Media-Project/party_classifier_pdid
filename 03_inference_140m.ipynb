{
 "cells": [
  {
   "cell_type": "markdown",
   "metadata": {
    "id": "09Pn6jK9Xwmj"
   },
   "source": [
    "### Apply party_all_entity_clf to all entities in the 1.4m dataset"
   ]
  },
  {
   "cell_type": "code",
   "execution_count": 1,
   "metadata": {
    "colab": {
     "background_save": true
    },
    "id": "B6iWSITmYNQz"
   },
   "outputs": [],
   "source": [
    "import pandas as pd\n",
    "from joblib import load"
   ]
  },
  {
   "cell_type": "code",
   "execution_count": 2,
   "metadata": {
    "colab": {
     "background_save": true
    },
    "id": "hmHIW5rNXwOW",
    "scrolled": true
   },
   "outputs": [],
   "source": [
    "d = pd.read_csv('../fb_2020/fb_2020_140m_adid_text_clean.csv.gz')"
   ]
  },
  {
   "cell_type": "code",
   "execution_count": 3,
   "metadata": {},
   "outputs": [],
   "source": [
    "pdid = pd.read_csv('../fb_2020/fb_2020_140m_adid_var1.csv.gz', usecols=['ad_id', 'pd_id'])"
   ]
  },
  {
   "cell_type": "code",
   "execution_count": 4,
   "metadata": {},
   "outputs": [],
   "source": [
    "d = d.merge(pdid, on='ad_id', how='left')"
   ]
  },
  {
   "cell_type": "markdown",
   "metadata": {
    "id": "10uTZsb3lHf5"
   },
   "source": [
    "### Prepare text for inference"
   ]
  },
  {
   "cell_type": "code",
   "execution_count": 5,
   "metadata": {},
   "outputs": [],
   "source": [
    "cols = ['disclaimer', 'page_name', 'ad_creative_body', 'ad_creative_link_caption', 'ad_creative_link_description', 'ad_creative_link_title', 'aws_ocr_text', 'google_asr_text']\n",
    "d['combined'] = d[cols].apply(lambda row: ' '.join(row.values.astype(str)), axis=1)\n",
    "d['combined'] = d['combined'].str.strip()"
   ]
  },
  {
   "cell_type": "code",
   "execution_count": 6,
   "metadata": {},
   "outputs": [
    {
     "data": {
      "text/plain": [
       "(1404005, 12)"
      ]
     },
     "execution_count": 6,
     "metadata": {},
     "output_type": "execute_result"
    }
   ],
   "source": [
    "d.shape"
   ]
  },
  {
   "cell_type": "code",
   "execution_count": 7,
   "metadata": {},
   "outputs": [
    {
     "data": {
      "text/plain": [
       "15164"
      ]
     },
     "execution_count": 7,
     "metadata": {},
     "output_type": "execute_result"
    }
   ],
   "source": [
    "len(d.pd_id.unique())"
   ]
  },
  {
   "cell_type": "code",
   "execution_count": 8,
   "metadata": {
    "id": "0zyR7ltTZtmp"
   },
   "outputs": [],
   "source": [
    "# Deduplicate before concatenate ad texts\n",
    "dd = d.drop_duplicates(subset=['pd_id','combined'], keep='last')"
   ]
  },
  {
   "cell_type": "code",
   "execution_count": 9,
   "metadata": {},
   "outputs": [
    {
     "data": {
      "text/plain": [
       "(277515, 12)"
      ]
     },
     "execution_count": 9,
     "metadata": {},
     "output_type": "execute_result"
    }
   ],
   "source": [
    "dd.shape"
   ]
  },
  {
   "cell_type": "code",
   "execution_count": 10,
   "metadata": {
    "id": "SEegZoxUbmWQ"
   },
   "outputs": [],
   "source": [
    "d_pdid_txt = dd.groupby(['pd_id'])['combined'].apply(lambda x: ' '.join(x)).reset_index()"
   ]
  },
  {
   "cell_type": "code",
   "execution_count": 11,
   "metadata": {
    "colab": {
     "base_uri": "https://localhost:8080/",
     "height": 206
    },
    "id": "BD83ljcodpWD",
    "outputId": "3e586751-8aec-4531-a178-1a2dc5396182"
   },
   "outputs": [
    {
     "data": {
      "text/html": [
       "<div>\n",
       "<style scoped>\n",
       "    .dataframe tbody tr th:only-of-type {\n",
       "        vertical-align: middle;\n",
       "    }\n",
       "\n",
       "    .dataframe tbody tr th {\n",
       "        vertical-align: top;\n",
       "    }\n",
       "\n",
       "    .dataframe thead th {\n",
       "        text-align: right;\n",
       "    }\n",
       "</style>\n",
       "<table border=\"1\" class=\"dataframe\">\n",
       "  <thead>\n",
       "    <tr style=\"text-align: right;\">\n",
       "      <th></th>\n",
       "      <th>pd_id</th>\n",
       "      <th>combined</th>\n",
       "    </tr>\n",
       "  </thead>\n",
       "  <tbody>\n",
       "    <tr>\n",
       "      <th>0</th>\n",
       "      <td>pd-1000079383451499-1</td>\n",
       "      <td>George A Jackson Defender Association of Phila...</td>\n",
       "    </tr>\n",
       "    <tr>\n",
       "      <th>1</th>\n",
       "      <td>pd-1000253160054572-4</td>\n",
       "      <td>CORI BUSH FOR CONGRESS Cori Bush I didn’t run ...</td>\n",
       "    </tr>\n",
       "    <tr>\n",
       "      <th>2</th>\n",
       "      <td>pd-1000359586797421-2</td>\n",
       "      <td>Devine For Judge Devine For Judge Judge Josh D...</td>\n",
       "    </tr>\n",
       "    <tr>\n",
       "      <th>3</th>\n",
       "      <td>pd-100053898949-2</td>\n",
       "      <td>MONTANA REPUBLICAN STATE CENTRAL COMMITTEE Mon...</td>\n",
       "    </tr>\n",
       "    <tr>\n",
       "      <th>4</th>\n",
       "      <td>pd-1000723093289140-1</td>\n",
       "      <td>These ads ran without a disclaimer Ombudsman S...</td>\n",
       "    </tr>\n",
       "  </tbody>\n",
       "</table>\n",
       "</div>"
      ],
      "text/plain": [
       "                   pd_id                                           combined\n",
       "0  pd-1000079383451499-1  George A Jackson Defender Association of Phila...\n",
       "1  pd-1000253160054572-4  CORI BUSH FOR CONGRESS Cori Bush I didn’t run ...\n",
       "2  pd-1000359586797421-2  Devine For Judge Devine For Judge Judge Josh D...\n",
       "3      pd-100053898949-2  MONTANA REPUBLICAN STATE CENTRAL COMMITTEE Mon...\n",
       "4  pd-1000723093289140-1  These ads ran without a disclaimer Ombudsman S..."
      ]
     },
     "execution_count": 11,
     "metadata": {},
     "output_type": "execute_result"
    }
   ],
   "source": [
    "d_pdid_txt.head()"
   ]
  },
  {
   "cell_type": "markdown",
   "metadata": {
    "id": "_xKZcDhSJ_YB"
   },
   "source": [
    "### Make influence\n"
   ]
  },
  {
   "cell_type": "code",
   "execution_count": 12,
   "metadata": {
    "id": "Wi4i96v4TIHe"
   },
   "outputs": [],
   "source": [
    "# Load the best model weights\n",
    "mnb_clf = load('models/party_clf_pdid_rf.joblib')"
   ]
  },
  {
   "cell_type": "code",
   "execution_count": 13,
   "metadata": {
    "id": "7-4YFZU9TcUu"
   },
   "outputs": [],
   "source": [
    "pred = mnb_clf.predict(d_pdid_txt['combined'])"
   ]
  },
  {
   "cell_type": "code",
   "execution_count": 14,
   "metadata": {
    "id": "hNeoewGTT9Q7"
   },
   "outputs": [],
   "source": [
    "d_pdid_txt['party_all_clf_pdid'] = pred"
   ]
  },
  {
   "cell_type": "code",
   "execution_count": 15,
   "metadata": {
    "id": "WwFTAL2teDAC"
   },
   "outputs": [],
   "source": [
    "d_pdid_txt = d_pdid_txt[['pd_id', 'party_all_clf_pdid']]"
   ]
  },
  {
   "cell_type": "code",
   "execution_count": 16,
   "metadata": {
    "colab": {
     "base_uri": "https://localhost:8080/",
     "height": 206
    },
    "id": "LaL2r6MedxdN",
    "outputId": "4379e930-99af-4dcd-a90d-ce48fa2dd86e"
   },
   "outputs": [
    {
     "data": {
      "text/html": [
       "<div>\n",
       "<style scoped>\n",
       "    .dataframe tbody tr th:only-of-type {\n",
       "        vertical-align: middle;\n",
       "    }\n",
       "\n",
       "    .dataframe tbody tr th {\n",
       "        vertical-align: top;\n",
       "    }\n",
       "\n",
       "    .dataframe thead th {\n",
       "        text-align: right;\n",
       "    }\n",
       "</style>\n",
       "<table border=\"1\" class=\"dataframe\">\n",
       "  <thead>\n",
       "    <tr style=\"text-align: right;\">\n",
       "      <th></th>\n",
       "      <th>pd_id</th>\n",
       "      <th>party_all_clf_pdid</th>\n",
       "    </tr>\n",
       "  </thead>\n",
       "  <tbody>\n",
       "    <tr>\n",
       "      <th>0</th>\n",
       "      <td>pd-1000079383451499-1</td>\n",
       "      <td>DEM</td>\n",
       "    </tr>\n",
       "    <tr>\n",
       "      <th>1</th>\n",
       "      <td>pd-1000253160054572-4</td>\n",
       "      <td>DEM</td>\n",
       "    </tr>\n",
       "    <tr>\n",
       "      <th>2</th>\n",
       "      <td>pd-1000359586797421-2</td>\n",
       "      <td>REP</td>\n",
       "    </tr>\n",
       "    <tr>\n",
       "      <th>3</th>\n",
       "      <td>pd-100053898949-2</td>\n",
       "      <td>REP</td>\n",
       "    </tr>\n",
       "    <tr>\n",
       "      <th>4</th>\n",
       "      <td>pd-1000723093289140-1</td>\n",
       "      <td>DEM</td>\n",
       "    </tr>\n",
       "  </tbody>\n",
       "</table>\n",
       "</div>"
      ],
      "text/plain": [
       "                   pd_id party_all_clf_pdid\n",
       "0  pd-1000079383451499-1                DEM\n",
       "1  pd-1000253160054572-4                DEM\n",
       "2  pd-1000359586797421-2                REP\n",
       "3      pd-100053898949-2                REP\n",
       "4  pd-1000723093289140-1                DEM"
      ]
     },
     "execution_count": 16,
     "metadata": {},
     "output_type": "execute_result"
    }
   ],
   "source": [
    "d_pdid_txt.head()"
   ]
  },
  {
   "cell_type": "code",
   "execution_count": 17,
   "metadata": {},
   "outputs": [
    {
     "data": {
      "text/plain": [
       "DEM      9560\n",
       "REP      5455\n",
       "OTHER     149\n",
       "Name: party_all_clf_pdid, dtype: int64"
      ]
     },
     "execution_count": 17,
     "metadata": {},
     "output_type": "execute_result"
    }
   ],
   "source": [
    "d_pdid_txt.party_all_clf_pdid.value_counts()"
   ]
  },
  {
   "cell_type": "code",
   "execution_count": 18,
   "metadata": {
    "id": "lQDe6WRqdyOj"
   },
   "outputs": [],
   "source": [
    "d_pdid_txt.to_csv(\"party_all_clf_pdid_fb_2020_140m.csv\", index=False)"
   ]
  }
 ],
 "metadata": {
  "colab": {
   "name": "party_clf_entity_06142022.ipynb",
   "provenance": [],
   "toc_visible": true
  },
  "kernelspec": {
   "display_name": "Python 3",
   "language": "python",
   "name": "python3"
  },
  "language_info": {
   "codemirror_mode": {
    "name": "ipython",
    "version": 3
   },
   "file_extension": ".py",
   "mimetype": "text/x-python",
   "name": "python",
   "nbconvert_exporter": "python",
   "pygments_lexer": "ipython3",
   "version": "3.7.7"
  }
 },
 "nbformat": 4,
 "nbformat_minor": 1
}
