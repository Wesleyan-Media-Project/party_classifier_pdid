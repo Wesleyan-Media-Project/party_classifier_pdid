{
 "cells": [
  {
   "cell_type": "markdown",
   "metadata": {
    "id": "09Pn6jK9Xwmj"
   },
   "source": [
    "### Apply party_all_entity_clf to all entities in the 1.18m dataset"
   ]
  },
  {
   "cell_type": "code",
   "execution_count": 1,
   "metadata": {
    "colab": {
     "background_save": true
    },
    "id": "B6iWSITmYNQz"
   },
   "outputs": [],
   "source": [
    "import pandas as pd\n",
    "from joblib import load"
   ]
  },
  {
   "cell_type": "code",
   "execution_count": 2,
   "metadata": {
    "colab": {
     "background_save": true
    },
    "id": "hmHIW5rNXwOW"
   },
   "outputs": [
    {
     "name": "stderr",
     "output_type": "stream",
     "text": [
      "/Users/jieluyao/opt/anaconda3/lib/python3.8/site-packages/IPython/core/interactiveshell.py:3146: DtypeWarning: Columns (8) have mixed types.Specify dtype option on import or set low_memory=False.\n",
      "  has_raised = await self.run_ast_nodes(code_ast.body, cell_name,\n"
     ]
    }
   ],
   "source": [
    "d = pd.read_csv('../fb_2020/fb_2020_118m_adid_text.csv.gz')"
   ]
  },
  {
   "cell_type": "code",
   "execution_count": 3,
   "metadata": {},
   "outputs": [],
   "source": [
    "pdid = pd.read_csv('../fb_2020/fb_2020_118m_adid_var.csv.gz', usecols=['ad_id', 'pd_id'])"
   ]
  },
  {
   "cell_type": "code",
   "execution_count": 4,
   "metadata": {},
   "outputs": [],
   "source": [
    "d = d.merge(pdid, on='ad_id', how='left')"
   ]
  },
  {
   "cell_type": "code",
   "execution_count": 5,
   "metadata": {
    "colab": {
     "background_save": true
    },
    "id": "I_i7sv-X-VGy",
    "outputId": "980c76ea-3ae7-422b-bd8c-b22d56b8d45a"
   },
   "outputs": [
    {
     "data": {
      "text/html": [
       "<div>\n",
       "<style scoped>\n",
       "    .dataframe tbody tr th:only-of-type {\n",
       "        vertical-align: middle;\n",
       "    }\n",
       "\n",
       "    .dataframe tbody tr th {\n",
       "        vertical-align: top;\n",
       "    }\n",
       "\n",
       "    .dataframe thead th {\n",
       "        text-align: right;\n",
       "    }\n",
       "</style>\n",
       "<table border=\"1\" class=\"dataframe\">\n",
       "  <thead>\n",
       "    <tr style=\"text-align: right;\">\n",
       "      <th></th>\n",
       "      <th>ad_id</th>\n",
       "      <th>page_name</th>\n",
       "      <th>disclaimer</th>\n",
       "      <th>ad_creative_body</th>\n",
       "      <th>ad_snapshot_url</th>\n",
       "      <th>ad_creative_link_caption</th>\n",
       "      <th>ad_creative_link_title</th>\n",
       "      <th>ad_creative_link_description</th>\n",
       "      <th>google_asr_text</th>\n",
       "      <th>aws_ocr_text</th>\n",
       "      <th>pd_id</th>\n",
       "    </tr>\n",
       "  </thead>\n",
       "  <tbody>\n",
       "    <tr>\n",
       "      <th>0</th>\n",
       "      <td>x839754043495256</td>\n",
       "      <td>Paul Junge</td>\n",
       "      <td>PAUL JUNGE FOR CONGRESS</td>\n",
       "      <td>Our campaign is wrapping up in Clarkston. Your...</td>\n",
       "      <td>https://www.facebook.com/ads/library/?id=83975...</td>\n",
       "      <td>NaN</td>\n",
       "      <td>NaN</td>\n",
       "      <td>NaN</td>\n",
       "      <td>This is Paul Young running for congress. As my...</td>\n",
       "      <td>NaN</td>\n",
       "      <td>pd-103067581133922-1</td>\n",
       "    </tr>\n",
       "    <tr>\n",
       "      <th>1</th>\n",
       "      <td>x2760635857554252</td>\n",
       "      <td>Mr. 45th</td>\n",
       "      <td>Clush</td>\n",
       "      <td>🇺🇸Trump KAG 2020 Car Door Lights🇺🇸 Get yours h...</td>\n",
       "      <td>https://www.facebook.com/ads/library/?id=27606...</td>\n",
       "      <td>NaN</td>\n",
       "      <td>NaN</td>\n",
       "      <td>NaN</td>\n",
       "      <td>NaN</td>\n",
       "      <td>TRUMP;KEEP AMERICA 2020 GREAT;TRUMP;KEEP AMERI...</td>\n",
       "      <td>pd-114885646899438-1</td>\n",
       "    </tr>\n",
       "    <tr>\n",
       "      <th>2</th>\n",
       "      <td>x852861918451209</td>\n",
       "      <td>IFC PAC</td>\n",
       "      <td>IFC PAC</td>\n",
       "      <td>Eric Gjerde has been endorsed by billionaire M...</td>\n",
       "      <td>https://www.facebook.com/ads/library/?id=85286...</td>\n",
       "      <td>NaN</td>\n",
       "      <td>NaN</td>\n",
       "      <td>NaN</td>\n",
       "      <td>NaN</td>\n",
       "      <td>NaN</td>\n",
       "      <td>pd-203304763647715-4</td>\n",
       "    </tr>\n",
       "    <tr>\n",
       "      <th>3</th>\n",
       "      <td>x3274462589269353</td>\n",
       "      <td>Embed News</td>\n",
       "      <td>Embed News</td>\n",
       "      <td>Despite very few cases of coronavirus originat...</td>\n",
       "      <td>https://www.facebook.com/ads/library/?id=32744...</td>\n",
       "      <td>NaN</td>\n",
       "      <td>NaN</td>\n",
       "      <td>NaN</td>\n",
       "      <td>Once packed subway cars. Now, sit empty busses...</td>\n",
       "      <td>NaN</td>\n",
       "      <td>pd-105698674239617-1</td>\n",
       "    </tr>\n",
       "    <tr>\n",
       "      <th>4</th>\n",
       "      <td>x1081067589012594</td>\n",
       "      <td>The Lincoln Project</td>\n",
       "      <td>The Lincoln Project</td>\n",
       "      <td>There is mourning in Pennsylvania. How many mo...</td>\n",
       "      <td>https://www.facebook.com/ads/library/?id=10810...</td>\n",
       "      <td>NaN</td>\n",
       "      <td>NaN</td>\n",
       "      <td>NaN</td>\n",
       "      <td>There's morning in Pennsylvania today. Hundred...</td>\n",
       "      <td>NaN</td>\n",
       "      <td>pd-105756057589080-1</td>\n",
       "    </tr>\n",
       "  </tbody>\n",
       "</table>\n",
       "</div>"
      ],
      "text/plain": [
       "               ad_id            page_name               disclaimer  \\\n",
       "0   x839754043495256           Paul Junge  PAUL JUNGE FOR CONGRESS   \n",
       "1  x2760635857554252             Mr. 45th                    Clush   \n",
       "2   x852861918451209              IFC PAC                  IFC PAC   \n",
       "3  x3274462589269353           Embed News               Embed News   \n",
       "4  x1081067589012594  The Lincoln Project      The Lincoln Project   \n",
       "\n",
       "                                    ad_creative_body  \\\n",
       "0  Our campaign is wrapping up in Clarkston. Your...   \n",
       "1  🇺🇸Trump KAG 2020 Car Door Lights🇺🇸 Get yours h...   \n",
       "2  Eric Gjerde has been endorsed by billionaire M...   \n",
       "3  Despite very few cases of coronavirus originat...   \n",
       "4  There is mourning in Pennsylvania. How many mo...   \n",
       "\n",
       "                                     ad_snapshot_url ad_creative_link_caption  \\\n",
       "0  https://www.facebook.com/ads/library/?id=83975...                      NaN   \n",
       "1  https://www.facebook.com/ads/library/?id=27606...                      NaN   \n",
       "2  https://www.facebook.com/ads/library/?id=85286...                      NaN   \n",
       "3  https://www.facebook.com/ads/library/?id=32744...                      NaN   \n",
       "4  https://www.facebook.com/ads/library/?id=10810...                      NaN   \n",
       "\n",
       "  ad_creative_link_title ad_creative_link_description  \\\n",
       "0                    NaN                          NaN   \n",
       "1                    NaN                          NaN   \n",
       "2                    NaN                          NaN   \n",
       "3                    NaN                          NaN   \n",
       "4                    NaN                          NaN   \n",
       "\n",
       "                                     google_asr_text  \\\n",
       "0  This is Paul Young running for congress. As my...   \n",
       "1                                                NaN   \n",
       "2                                                NaN   \n",
       "3  Once packed subway cars. Now, sit empty busses...   \n",
       "4  There's morning in Pennsylvania today. Hundred...   \n",
       "\n",
       "                                        aws_ocr_text                 pd_id  \n",
       "0                                                NaN  pd-103067581133922-1  \n",
       "1  TRUMP;KEEP AMERICA 2020 GREAT;TRUMP;KEEP AMERI...  pd-114885646899438-1  \n",
       "2                                                NaN  pd-203304763647715-4  \n",
       "3                                                NaN  pd-105698674239617-1  \n",
       "4                                                NaN  pd-105756057589080-1  "
      ]
     },
     "execution_count": 5,
     "metadata": {},
     "output_type": "execute_result"
    }
   ],
   "source": [
    "d.head()"
   ]
  },
  {
   "cell_type": "markdown",
   "metadata": {
    "id": "10uTZsb3lHf5"
   },
   "source": [
    "### Prepare text for inference"
   ]
  },
  {
   "cell_type": "code",
   "execution_count": 6,
   "metadata": {},
   "outputs": [],
   "source": [
    "cols = ['disclaimer', 'page_name', 'ad_creative_body', 'ad_creative_link_caption', 'ad_creative_link_description', 'ad_creative_link_title', 'aws_ocr_text', 'google_asr_text']\n",
    "d['ad_combined_text'] = d[cols].apply(lambda row: ' '.join(row.values.astype(str)), axis=1)"
   ]
  },
  {
   "cell_type": "code",
   "execution_count": 7,
   "metadata": {},
   "outputs": [
    {
     "data": {
      "text/plain": [
       "(1182385, 12)"
      ]
     },
     "execution_count": 7,
     "metadata": {},
     "output_type": "execute_result"
    }
   ],
   "source": [
    "d.shape"
   ]
  },
  {
   "cell_type": "code",
   "execution_count": 8,
   "metadata": {},
   "outputs": [
    {
     "data": {
      "text/plain": [
       "10746"
      ]
     },
     "execution_count": 8,
     "metadata": {},
     "output_type": "execute_result"
    }
   ],
   "source": [
    "len(d.pd_id.unique())"
   ]
  },
  {
   "cell_type": "code",
   "execution_count": 9,
   "metadata": {},
   "outputs": [
    {
     "data": {
      "text/html": [
       "<div>\n",
       "<style scoped>\n",
       "    .dataframe tbody tr th:only-of-type {\n",
       "        vertical-align: middle;\n",
       "    }\n",
       "\n",
       "    .dataframe tbody tr th {\n",
       "        vertical-align: top;\n",
       "    }\n",
       "\n",
       "    .dataframe thead th {\n",
       "        text-align: right;\n",
       "    }\n",
       "</style>\n",
       "<table border=\"1\" class=\"dataframe\">\n",
       "  <thead>\n",
       "    <tr style=\"text-align: right;\">\n",
       "      <th></th>\n",
       "      <th>ad_id</th>\n",
       "      <th>page_name</th>\n",
       "      <th>disclaimer</th>\n",
       "      <th>ad_creative_body</th>\n",
       "      <th>ad_snapshot_url</th>\n",
       "      <th>ad_creative_link_caption</th>\n",
       "      <th>ad_creative_link_title</th>\n",
       "      <th>ad_creative_link_description</th>\n",
       "      <th>google_asr_text</th>\n",
       "      <th>aws_ocr_text</th>\n",
       "      <th>pd_id</th>\n",
       "      <th>ad_combined_text</th>\n",
       "    </tr>\n",
       "  </thead>\n",
       "  <tbody>\n",
       "    <tr>\n",
       "      <th>1182380</th>\n",
       "      <td>x611813179502011</td>\n",
       "      <td>Shield Republic</td>\n",
       "      <td>Shield Republic</td>\n",
       "      <td>Buy One, Get One FREE 🇺🇸 Use code B1G12020 @ c...</td>\n",
       "      <td>https://www.facebook.com/ads/library/?id=61181...</td>\n",
       "      <td>shieldrepublic.com</td>\n",
       "      <td>Buy 1, Get 1 FREE - Limited Time</td>\n",
       "      <td>WARNING: All Shield Republic apparel puts you ...</td>\n",
       "      <td>NaN</td>\n",
       "      <td>NaN</td>\n",
       "      <td>pd-1883837055193241-2</td>\n",
       "      <td>Shield Republic Shield Republic Buy One, Get O...</td>\n",
       "    </tr>\n",
       "    <tr>\n",
       "      <th>1182381</th>\n",
       "      <td>x357339405440222</td>\n",
       "      <td>Shield Republic</td>\n",
       "      <td>Shield Republic</td>\n",
       "      <td>Are you ready for Fall? Use code “SHIELD25” fo...</td>\n",
       "      <td>https://www.facebook.com/ads/library/?id=35733...</td>\n",
       "      <td>shieldrepublic.com</td>\n",
       "      <td>GET 25% OFF TODAY</td>\n",
       "      <td>High Speed Wireless Communication Device</td>\n",
       "      <td>NaN</td>\n",
       "      <td>NaN</td>\n",
       "      <td>pd-1883837055193241-2</td>\n",
       "      <td>Shield Republic Shield Republic Are you ready ...</td>\n",
       "    </tr>\n",
       "    <tr>\n",
       "      <th>1182382</th>\n",
       "      <td>x1320690564929827</td>\n",
       "      <td>Shield Republic</td>\n",
       "      <td>Shield Republic</td>\n",
       "      <td>Are you ready for Fall? Use code “SHIELD25” fo...</td>\n",
       "      <td>https://www.facebook.com/ads/library/?id=13206...</td>\n",
       "      <td>shieldrepublic.com</td>\n",
       "      <td>GET 25% OFF TODAY</td>\n",
       "      <td>High Speed Wireless Communication Device</td>\n",
       "      <td>NaN</td>\n",
       "      <td>NaN</td>\n",
       "      <td>pd-1883837055193241-2</td>\n",
       "      <td>Shield Republic Shield Republic Are you ready ...</td>\n",
       "    </tr>\n",
       "    <tr>\n",
       "      <th>1182383</th>\n",
       "      <td>x317716032909591</td>\n",
       "      <td>Shield Republic</td>\n",
       "      <td>Shield Republic</td>\n",
       "      <td>Are you ready for Fall? Use code “SHIELD25” fo...</td>\n",
       "      <td>https://www.facebook.com/ads/library/?id=31771...</td>\n",
       "      <td>shieldrepublic.com</td>\n",
       "      <td>GET 25% OFF TODAY</td>\n",
       "      <td>High Speed Wireless Communication Device</td>\n",
       "      <td>NaN</td>\n",
       "      <td>NaN</td>\n",
       "      <td>pd-1883837055193241-2</td>\n",
       "      <td>Shield Republic Shield Republic Are you ready ...</td>\n",
       "    </tr>\n",
       "    <tr>\n",
       "      <th>1182384</th>\n",
       "      <td>x789921198451289</td>\n",
       "      <td>Shield Republic</td>\n",
       "      <td>Shield Republic</td>\n",
       "      <td>Buy One, Get One FREE 🇺🇸 Use code B1G12020 @ c...</td>\n",
       "      <td>https://www.facebook.com/ads/library/?id=78992...</td>\n",
       "      <td>shieldrepublic.com</td>\n",
       "      <td>Buy 1, Get 1 FREE - Limited Time</td>\n",
       "      <td>WARNING: All Shield Republic apparel puts you ...</td>\n",
       "      <td>NaN</td>\n",
       "      <td>NaN</td>\n",
       "      <td>pd-1883837055193241-2</td>\n",
       "      <td>Shield Republic Shield Republic Buy One, Get O...</td>\n",
       "    </tr>\n",
       "  </tbody>\n",
       "</table>\n",
       "</div>"
      ],
      "text/plain": [
       "                     ad_id        page_name       disclaimer  \\\n",
       "1182380   x611813179502011  Shield Republic  Shield Republic   \n",
       "1182381   x357339405440222  Shield Republic  Shield Republic   \n",
       "1182382  x1320690564929827  Shield Republic  Shield Republic   \n",
       "1182383   x317716032909591  Shield Republic  Shield Republic   \n",
       "1182384   x789921198451289  Shield Republic  Shield Republic   \n",
       "\n",
       "                                          ad_creative_body  \\\n",
       "1182380  Buy One, Get One FREE 🇺🇸 Use code B1G12020 @ c...   \n",
       "1182381  Are you ready for Fall? Use code “SHIELD25” fo...   \n",
       "1182382  Are you ready for Fall? Use code “SHIELD25” fo...   \n",
       "1182383  Are you ready for Fall? Use code “SHIELD25” fo...   \n",
       "1182384  Buy One, Get One FREE 🇺🇸 Use code B1G12020 @ c...   \n",
       "\n",
       "                                           ad_snapshot_url  \\\n",
       "1182380  https://www.facebook.com/ads/library/?id=61181...   \n",
       "1182381  https://www.facebook.com/ads/library/?id=35733...   \n",
       "1182382  https://www.facebook.com/ads/library/?id=13206...   \n",
       "1182383  https://www.facebook.com/ads/library/?id=31771...   \n",
       "1182384  https://www.facebook.com/ads/library/?id=78992...   \n",
       "\n",
       "        ad_creative_link_caption            ad_creative_link_title  \\\n",
       "1182380       shieldrepublic.com  Buy 1, Get 1 FREE - Limited Time   \n",
       "1182381       shieldrepublic.com                 GET 25% OFF TODAY   \n",
       "1182382       shieldrepublic.com                 GET 25% OFF TODAY   \n",
       "1182383       shieldrepublic.com                 GET 25% OFF TODAY   \n",
       "1182384       shieldrepublic.com  Buy 1, Get 1 FREE - Limited Time   \n",
       "\n",
       "                              ad_creative_link_description google_asr_text  \\\n",
       "1182380  WARNING: All Shield Republic apparel puts you ...             NaN   \n",
       "1182381           High Speed Wireless Communication Device             NaN   \n",
       "1182382           High Speed Wireless Communication Device             NaN   \n",
       "1182383           High Speed Wireless Communication Device             NaN   \n",
       "1182384  WARNING: All Shield Republic apparel puts you ...             NaN   \n",
       "\n",
       "        aws_ocr_text                  pd_id  \\\n",
       "1182380          NaN  pd-1883837055193241-2   \n",
       "1182381          NaN  pd-1883837055193241-2   \n",
       "1182382          NaN  pd-1883837055193241-2   \n",
       "1182383          NaN  pd-1883837055193241-2   \n",
       "1182384          NaN  pd-1883837055193241-2   \n",
       "\n",
       "                                          ad_combined_text  \n",
       "1182380  Shield Republic Shield Republic Buy One, Get O...  \n",
       "1182381  Shield Republic Shield Republic Are you ready ...  \n",
       "1182382  Shield Republic Shield Republic Are you ready ...  \n",
       "1182383  Shield Republic Shield Republic Are you ready ...  \n",
       "1182384  Shield Republic Shield Republic Buy One, Get O...  "
      ]
     },
     "execution_count": 9,
     "metadata": {},
     "output_type": "execute_result"
    }
   ],
   "source": [
    "d.tail()"
   ]
  },
  {
   "cell_type": "code",
   "execution_count": 10,
   "metadata": {
    "id": "0zyR7ltTZtmp"
   },
   "outputs": [],
   "source": [
    "# Deduplicate before concatenate ad texts\n",
    "dd = d.drop_duplicates(subset=['pd_id','ad_combined_text'], keep='last')"
   ]
  },
  {
   "cell_type": "code",
   "execution_count": 11,
   "metadata": {},
   "outputs": [
    {
     "data": {
      "text/plain": [
       "(218057, 12)"
      ]
     },
     "execution_count": 11,
     "metadata": {},
     "output_type": "execute_result"
    }
   ],
   "source": [
    "dd.shape"
   ]
  },
  {
   "cell_type": "code",
   "execution_count": 12,
   "metadata": {},
   "outputs": [
    {
     "data": {
      "text/html": [
       "<div>\n",
       "<style scoped>\n",
       "    .dataframe tbody tr th:only-of-type {\n",
       "        vertical-align: middle;\n",
       "    }\n",
       "\n",
       "    .dataframe tbody tr th {\n",
       "        vertical-align: top;\n",
       "    }\n",
       "\n",
       "    .dataframe thead th {\n",
       "        text-align: right;\n",
       "    }\n",
       "</style>\n",
       "<table border=\"1\" class=\"dataframe\">\n",
       "  <thead>\n",
       "    <tr style=\"text-align: right;\">\n",
       "      <th></th>\n",
       "      <th>ad_id</th>\n",
       "      <th>page_name</th>\n",
       "      <th>disclaimer</th>\n",
       "      <th>ad_creative_body</th>\n",
       "      <th>ad_snapshot_url</th>\n",
       "      <th>ad_creative_link_caption</th>\n",
       "      <th>ad_creative_link_title</th>\n",
       "      <th>ad_creative_link_description</th>\n",
       "      <th>google_asr_text</th>\n",
       "      <th>aws_ocr_text</th>\n",
       "      <th>pd_id</th>\n",
       "      <th>ad_combined_text</th>\n",
       "    </tr>\n",
       "  </thead>\n",
       "  <tbody>\n",
       "    <tr>\n",
       "      <th>2</th>\n",
       "      <td>x852861918451209</td>\n",
       "      <td>IFC PAC</td>\n",
       "      <td>IFC PAC</td>\n",
       "      <td>Eric Gjerde has been endorsed by billionaire M...</td>\n",
       "      <td>https://www.facebook.com/ads/library/?id=85286...</td>\n",
       "      <td>NaN</td>\n",
       "      <td>NaN</td>\n",
       "      <td>NaN</td>\n",
       "      <td>NaN</td>\n",
       "      <td>NaN</td>\n",
       "      <td>pd-203304763647715-4</td>\n",
       "      <td>IFC PAC IFC PAC Eric Gjerde has been endorsed ...</td>\n",
       "    </tr>\n",
       "    <tr>\n",
       "      <th>8</th>\n",
       "      <td>x352907872466616</td>\n",
       "      <td>Ben Meiklejohn for State Representative</td>\n",
       "      <td>Benjamin None Meiklejohn</td>\n",
       "      <td>I support the policy enacted by the 129th Main...</td>\n",
       "      <td>https://www.facebook.com/ads/library/?id=35290...</td>\n",
       "      <td>NaN</td>\n",
       "      <td>NaN</td>\n",
       "      <td>NaN</td>\n",
       "      <td>NaN</td>\n",
       "      <td>NaN</td>\n",
       "      <td>pd-151019860144-1</td>\n",
       "      <td>Benjamin None Meiklejohn Ben Meiklejohn for St...</td>\n",
       "    </tr>\n",
       "    <tr>\n",
       "      <th>9</th>\n",
       "      <td>x3088220711303979</td>\n",
       "      <td>Aaron Coleman for Kansas</td>\n",
       "      <td>Aaron B Coleman</td>\n",
       "      <td>Too cheap of a bill to be the United States......</td>\n",
       "      <td>https://www.facebook.com/ads/library/?id=30882...</td>\n",
       "      <td>NaN</td>\n",
       "      <td>NaN</td>\n",
       "      <td>NaN</td>\n",
       "      <td>NaN</td>\n",
       "      <td>NaN</td>\n",
       "      <td>pd-286773611800113-1</td>\n",
       "      <td>Aaron B Coleman Aaron Coleman for Kansas Too c...</td>\n",
       "    </tr>\n",
       "    <tr>\n",
       "      <th>12</th>\n",
       "      <td>x383254776171883</td>\n",
       "      <td>Rob Elbon</td>\n",
       "      <td>Rob Elbon</td>\n",
       "      <td>Education is the most powerful means to build ...</td>\n",
       "      <td>https://www.facebook.com/ads/library/?id=38325...</td>\n",
       "      <td>NaN</td>\n",
       "      <td>WHO WE ARE - REMIX EDUCATION</td>\n",
       "      <td>Human hamsterballs, toilet paper guns, giant f...</td>\n",
       "      <td>NaN</td>\n",
       "      <td>noops;schools;YREMOX SPECIFICA;6;8;2;3</td>\n",
       "      <td>pd-109524023903109-1</td>\n",
       "      <td>Rob Elbon Rob Elbon Education is the most powe...</td>\n",
       "    </tr>\n",
       "    <tr>\n",
       "      <th>14</th>\n",
       "      <td>x826951254719071</td>\n",
       "      <td>David Arconti for State Representative</td>\n",
       "      <td>Arconti 2020</td>\n",
       "      <td>Danbury business owners support Dave because h...</td>\n",
       "      <td>https://www.facebook.com/ads/library/?id=82695...</td>\n",
       "      <td>NaN</td>\n",
       "      <td>NaN</td>\n",
       "      <td>NaN</td>\n",
       "      <td>I support state representative David are Conte...</td>\n",
       "      <td>NaN</td>\n",
       "      <td>pd-190359334425329-2</td>\n",
       "      <td>Arconti 2020 David Arconti for State Represent...</td>\n",
       "    </tr>\n",
       "  </tbody>\n",
       "</table>\n",
       "</div>"
      ],
      "text/plain": [
       "                ad_id                                page_name  \\\n",
       "2    x852861918451209                                  IFC PAC   \n",
       "8    x352907872466616  Ben Meiklejohn for State Representative   \n",
       "9   x3088220711303979                 Aaron Coleman for Kansas   \n",
       "12   x383254776171883                                Rob Elbon   \n",
       "14   x826951254719071   David Arconti for State Representative   \n",
       "\n",
       "                  disclaimer  \\\n",
       "2                    IFC PAC   \n",
       "8   Benjamin None Meiklejohn   \n",
       "9            Aaron B Coleman   \n",
       "12                 Rob Elbon   \n",
       "14              Arconti 2020   \n",
       "\n",
       "                                     ad_creative_body  \\\n",
       "2   Eric Gjerde has been endorsed by billionaire M...   \n",
       "8   I support the policy enacted by the 129th Main...   \n",
       "9   Too cheap of a bill to be the United States......   \n",
       "12  Education is the most powerful means to build ...   \n",
       "14  Danbury business owners support Dave because h...   \n",
       "\n",
       "                                      ad_snapshot_url  \\\n",
       "2   https://www.facebook.com/ads/library/?id=85286...   \n",
       "8   https://www.facebook.com/ads/library/?id=35290...   \n",
       "9   https://www.facebook.com/ads/library/?id=30882...   \n",
       "12  https://www.facebook.com/ads/library/?id=38325...   \n",
       "14  https://www.facebook.com/ads/library/?id=82695...   \n",
       "\n",
       "   ad_creative_link_caption        ad_creative_link_title  \\\n",
       "2                       NaN                           NaN   \n",
       "8                       NaN                           NaN   \n",
       "9                       NaN                           NaN   \n",
       "12                      NaN  WHO WE ARE - REMIX EDUCATION   \n",
       "14                      NaN                           NaN   \n",
       "\n",
       "                         ad_creative_link_description  \\\n",
       "2                                                 NaN   \n",
       "8                                                 NaN   \n",
       "9                                                 NaN   \n",
       "12  Human hamsterballs, toilet paper guns, giant f...   \n",
       "14                                                NaN   \n",
       "\n",
       "                                      google_asr_text  \\\n",
       "2                                                 NaN   \n",
       "8                                                 NaN   \n",
       "9                                                 NaN   \n",
       "12                                                NaN   \n",
       "14  I support state representative David are Conte...   \n",
       "\n",
       "                              aws_ocr_text                 pd_id  \\\n",
       "2                                      NaN  pd-203304763647715-4   \n",
       "8                                      NaN     pd-151019860144-1   \n",
       "9                                      NaN  pd-286773611800113-1   \n",
       "12  noops;schools;YREMOX SPECIFICA;6;8;2;3  pd-109524023903109-1   \n",
       "14                                     NaN  pd-190359334425329-2   \n",
       "\n",
       "                                     ad_combined_text  \n",
       "2   IFC PAC IFC PAC Eric Gjerde has been endorsed ...  \n",
       "8   Benjamin None Meiklejohn Ben Meiklejohn for St...  \n",
       "9   Aaron B Coleman Aaron Coleman for Kansas Too c...  \n",
       "12  Rob Elbon Rob Elbon Education is the most powe...  \n",
       "14  Arconti 2020 David Arconti for State Represent...  "
      ]
     },
     "execution_count": 12,
     "metadata": {},
     "output_type": "execute_result"
    }
   ],
   "source": [
    "dd.head()"
   ]
  },
  {
   "cell_type": "code",
   "execution_count": 13,
   "metadata": {},
   "outputs": [
    {
     "data": {
      "text/plain": [
       "10746"
      ]
     },
     "execution_count": 13,
     "metadata": {},
     "output_type": "execute_result"
    }
   ],
   "source": [
    "len(dd.pd_id.unique())"
   ]
  },
  {
   "cell_type": "code",
   "execution_count": 14,
   "metadata": {
    "id": "SEegZoxUbmWQ"
   },
   "outputs": [],
   "source": [
    "d_pdid_txt = dd.groupby(['pd_id'])['ad_combined_text'].apply(lambda x: ' '.join(x)).reset_index()"
   ]
  },
  {
   "cell_type": "code",
   "execution_count": 15,
   "metadata": {
    "colab": {
     "base_uri": "https://localhost:8080/",
     "height": 206
    },
    "id": "BD83ljcodpWD",
    "outputId": "3e586751-8aec-4531-a178-1a2dc5396182"
   },
   "outputs": [
    {
     "data": {
      "text/html": [
       "<div>\n",
       "<style scoped>\n",
       "    .dataframe tbody tr th:only-of-type {\n",
       "        vertical-align: middle;\n",
       "    }\n",
       "\n",
       "    .dataframe tbody tr th {\n",
       "        vertical-align: top;\n",
       "    }\n",
       "\n",
       "    .dataframe thead th {\n",
       "        text-align: right;\n",
       "    }\n",
       "</style>\n",
       "<table border=\"1\" class=\"dataframe\">\n",
       "  <thead>\n",
       "    <tr style=\"text-align: right;\">\n",
       "      <th></th>\n",
       "      <th>pd_id</th>\n",
       "      <th>ad_combined_text</th>\n",
       "    </tr>\n",
       "  </thead>\n",
       "  <tbody>\n",
       "    <tr>\n",
       "      <th>0</th>\n",
       "      <td>pd-1000253160054572-4</td>\n",
       "      <td>CORI BUSH FOR CONGRESS Cori Bush Here’s the tr...</td>\n",
       "    </tr>\n",
       "    <tr>\n",
       "      <th>1</th>\n",
       "      <td>pd-1000359586797421-2</td>\n",
       "      <td>Devine For Judge Devine For Judge The Wampler ...</td>\n",
       "    </tr>\n",
       "    <tr>\n",
       "      <th>2</th>\n",
       "      <td>pd-100053898949-2</td>\n",
       "      <td>MONTANA REPUBLICAN STATE CENTRAL COMMITTEE Mon...</td>\n",
       "    </tr>\n",
       "    <tr>\n",
       "      <th>3</th>\n",
       "      <td>pd-1000742886645168-1</td>\n",
       "      <td>Fortier for State Senate Mary Fortier Republic...</td>\n",
       "    </tr>\n",
       "    <tr>\n",
       "      <th>4</th>\n",
       "      <td>pd-100100091453712-1</td>\n",
       "      <td>Stacey Knoell for Kansas Stacey Knoell for Kan...</td>\n",
       "    </tr>\n",
       "  </tbody>\n",
       "</table>\n",
       "</div>"
      ],
      "text/plain": [
       "                   pd_id                                   ad_combined_text\n",
       "0  pd-1000253160054572-4  CORI BUSH FOR CONGRESS Cori Bush Here’s the tr...\n",
       "1  pd-1000359586797421-2  Devine For Judge Devine For Judge The Wampler ...\n",
       "2      pd-100053898949-2  MONTANA REPUBLICAN STATE CENTRAL COMMITTEE Mon...\n",
       "3  pd-1000742886645168-1  Fortier for State Senate Mary Fortier Republic...\n",
       "4   pd-100100091453712-1  Stacey Knoell for Kansas Stacey Knoell for Kan..."
      ]
     },
     "execution_count": 15,
     "metadata": {},
     "output_type": "execute_result"
    }
   ],
   "source": [
    "d_pdid_txt.head()"
   ]
  },
  {
   "cell_type": "markdown",
   "metadata": {
    "id": "_xKZcDhSJ_YB"
   },
   "source": [
    "### Make influence\n"
   ]
  },
  {
   "cell_type": "code",
   "execution_count": 16,
   "metadata": {
    "id": "Wi4i96v4TIHe"
   },
   "outputs": [
    {
     "name": "stderr",
     "output_type": "stream",
     "text": [
      "/Users/jieluyao/opt/anaconda3/lib/python3.8/site-packages/sklearn/base.py:329: UserWarning: Trying to unpickle estimator CountVectorizer from version 1.0.2 when using version 1.1.1. This might lead to breaking code or invalid results. Use at your own risk. For more info please refer to:\n",
      "https://scikit-learn.org/stable/model_persistence.html#security-maintainability-limitations\n",
      "  warnings.warn(\n",
      "/Users/jieluyao/opt/anaconda3/lib/python3.8/site-packages/sklearn/base.py:329: UserWarning: Trying to unpickle estimator TfidfTransformer from version 1.0.2 when using version 1.1.1. This might lead to breaking code or invalid results. Use at your own risk. For more info please refer to:\n",
      "https://scikit-learn.org/stable/model_persistence.html#security-maintainability-limitations\n",
      "  warnings.warn(\n",
      "/Users/jieluyao/opt/anaconda3/lib/python3.8/site-packages/sklearn/base.py:329: UserWarning: Trying to unpickle estimator MultinomialNB from version 1.0.2 when using version 1.1.1. This might lead to breaking code or invalid results. Use at your own risk. For more info please refer to:\n",
      "https://scikit-learn.org/stable/model_persistence.html#security-maintainability-limitations\n",
      "  warnings.warn(\n",
      "/Users/jieluyao/opt/anaconda3/lib/python3.8/site-packages/sklearn/base.py:329: UserWarning: Trying to unpickle estimator Pipeline from version 1.0.2 when using version 1.1.1. This might lead to breaking code or invalid results. Use at your own risk. For more info please refer to:\n",
      "https://scikit-learn.org/stable/model_persistence.html#security-maintainability-limitations\n",
      "  warnings.warn(\n",
      "/Users/jieluyao/opt/anaconda3/lib/python3.8/site-packages/sklearn/base.py:329: UserWarning: Trying to unpickle estimator GridSearchCV from version 1.0.2 when using version 1.1.1. This might lead to breaking code or invalid results. Use at your own risk. For more info please refer to:\n",
      "https://scikit-learn.org/stable/model_persistence.html#security-maintainability-limitations\n",
      "  warnings.warn(\n"
     ]
    }
   ],
   "source": [
    "# Load model\n",
    "mnb_clf = load('party_clf_pdid_mnb.joblib')"
   ]
  },
  {
   "cell_type": "code",
   "execution_count": 17,
   "metadata": {
    "id": "7-4YFZU9TcUu"
   },
   "outputs": [],
   "source": [
    "pred = mnb_clf.predict(d_pdid_txt['ad_combined_text'])"
   ]
  },
  {
   "cell_type": "code",
   "execution_count": 18,
   "metadata": {
    "id": "hNeoewGTT9Q7"
   },
   "outputs": [],
   "source": [
    "d_pdid_txt['party_clf_pdid'] = pred"
   ]
  },
  {
   "cell_type": "code",
   "execution_count": 19,
   "metadata": {
    "id": "WwFTAL2teDAC"
   },
   "outputs": [],
   "source": [
    "d_pdid_txt = d_pdid_txt[['pd_id', 'party_clf_pdid']]"
   ]
  },
  {
   "cell_type": "code",
   "execution_count": 20,
   "metadata": {
    "colab": {
     "base_uri": "https://localhost:8080/",
     "height": 206
    },
    "id": "LaL2r6MedxdN",
    "outputId": "4379e930-99af-4dcd-a90d-ce48fa2dd86e"
   },
   "outputs": [
    {
     "data": {
      "text/html": [
       "<div>\n",
       "<style scoped>\n",
       "    .dataframe tbody tr th:only-of-type {\n",
       "        vertical-align: middle;\n",
       "    }\n",
       "\n",
       "    .dataframe tbody tr th {\n",
       "        vertical-align: top;\n",
       "    }\n",
       "\n",
       "    .dataframe thead th {\n",
       "        text-align: right;\n",
       "    }\n",
       "</style>\n",
       "<table border=\"1\" class=\"dataframe\">\n",
       "  <thead>\n",
       "    <tr style=\"text-align: right;\">\n",
       "      <th></th>\n",
       "      <th>pd_id</th>\n",
       "      <th>party_clf_pdid</th>\n",
       "    </tr>\n",
       "  </thead>\n",
       "  <tbody>\n",
       "    <tr>\n",
       "      <th>0</th>\n",
       "      <td>pd-1000253160054572-4</td>\n",
       "      <td>DEM</td>\n",
       "    </tr>\n",
       "    <tr>\n",
       "      <th>1</th>\n",
       "      <td>pd-1000359586797421-2</td>\n",
       "      <td>REP</td>\n",
       "    </tr>\n",
       "    <tr>\n",
       "      <th>2</th>\n",
       "      <td>pd-100053898949-2</td>\n",
       "      <td>REP</td>\n",
       "    </tr>\n",
       "    <tr>\n",
       "      <th>3</th>\n",
       "      <td>pd-1000742886645168-1</td>\n",
       "      <td>DEM</td>\n",
       "    </tr>\n",
       "    <tr>\n",
       "      <th>4</th>\n",
       "      <td>pd-100100091453712-1</td>\n",
       "      <td>DEM</td>\n",
       "    </tr>\n",
       "  </tbody>\n",
       "</table>\n",
       "</div>"
      ],
      "text/plain": [
       "                   pd_id party_clf_pdid\n",
       "0  pd-1000253160054572-4            DEM\n",
       "1  pd-1000359586797421-2            REP\n",
       "2      pd-100053898949-2            REP\n",
       "3  pd-1000742886645168-1            DEM\n",
       "4   pd-100100091453712-1            DEM"
      ]
     },
     "execution_count": 20,
     "metadata": {},
     "output_type": "execute_result"
    }
   ],
   "source": [
    "d_pdid_txt.head()"
   ]
  },
  {
   "cell_type": "code",
   "execution_count": 21,
   "metadata": {
    "colab": {
     "base_uri": "https://localhost:8080/"
    },
    "id": "mpzRmBkweMkf",
    "outputId": "eee1fd0a-8e21-4c27-aa96-29b1d494459b"
   },
   "outputs": [
    {
     "data": {
      "text/plain": [
       "DEM      7067\n",
       "REP      3568\n",
       "OTHER     111\n",
       "Name: party_clf_pdid, dtype: int64"
      ]
     },
     "execution_count": 21,
     "metadata": {},
     "output_type": "execute_result"
    }
   ],
   "source": [
    "d_pdid_txt.party_clf_pdid.value_counts()"
   ]
  },
  {
   "cell_type": "code",
   "execution_count": 22,
   "metadata": {},
   "outputs": [
    {
     "data": {
      "text/plain": [
       "(10746, 2)"
      ]
     },
     "execution_count": 22,
     "metadata": {},
     "output_type": "execute_result"
    }
   ],
   "source": [
    "d_pdid_txt.shape"
   ]
  },
  {
   "cell_type": "code",
   "execution_count": 23,
   "metadata": {
    "id": "lQDe6WRqdyOj"
   },
   "outputs": [],
   "source": [
    "d_pdid_txt.to_csv(\"party_clf_entity_fb_118m_pdid.csv\", index=False)"
   ]
  },
  {
   "cell_type": "code",
   "execution_count": null,
   "metadata": {},
   "outputs": [],
   "source": []
  }
 ],
 "metadata": {
  "colab": {
   "name": "party_clf_entity_06142022.ipynb",
   "provenance": [],
   "toc_visible": true
  },
  "kernelspec": {
   "display_name": "Python 3",
   "language": "python",
   "name": "python3"
  },
  "language_info": {
   "codemirror_mode": {
    "name": "ipython",
    "version": 3
   },
   "file_extension": ".py",
   "mimetype": "text/x-python",
   "name": "python",
   "nbconvert_exporter": "python",
   "pygments_lexer": "ipython3",
   "version": "3.7.7"
  }
 },
 "nbformat": 4,
 "nbformat_minor": 1
}
