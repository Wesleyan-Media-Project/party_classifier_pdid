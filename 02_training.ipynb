{
 "cells": [
  {
   "cell_type": "markdown",
   "metadata": {
    "id": "09Pn6jK9Xwmj"
   },
   "source": [
    "### party_clf_entity training "
   ]
  },
  {
   "cell_type": "code",
   "execution_count": 1,
   "metadata": {
    "colab": {
     "background_save": true
    },
    "id": "B6iWSITmYNQz"
   },
   "outputs": [],
   "source": [
    "import sklearn.model_selection as ms\n",
    "from sklearn.pipeline import Pipeline\n",
    "from sklearn import metrics\n",
    "from sklearn.feature_extraction.text import CountVectorizer\n",
    "from sklearn.feature_extraction.text import TfidfVectorizer\n",
    "from sklearn.feature_extraction.text import TfidfTransformer\n",
    "from sklearn.model_selection import GridSearchCV\n",
    "import pandas as pd\n",
    "import numpy as np\n",
    "from joblib import dump, load\n",
    "from sklearn.linear_model import LogisticRegression\n",
    "from sklearn.naive_bayes import MultinomialNB\n",
    "from sklearn.linear_model import SGDClassifier\n",
    "from sklearn.ensemble import RandomForestClassifier"
   ]
  },
  {
   "cell_type": "code",
   "execution_count": 2,
   "metadata": {},
   "outputs": [],
   "source": [
    "# Input\n",
    "path_train_test = \"data/facebook/140m_with_page_id_based_training_data.csv.gz\"\n",
    "# fb_2020_140m_adid_text_clean.csv.gz is an output from repo fb_2020\n",
    "path_train_test_text = \"../fb_2020/fb_2020_140m_adid_text_clean.csv.gz\""
   ]
  },
  {
   "cell_type": "code",
   "execution_count": 3,
   "metadata": {},
   "outputs": [],
   "source": [
    "# Load train/test metadata\n",
    "d = pd.read_csv(path_train_test, encoding='UTF-8', keep_default_na = False)\n",
    "# Load train/test text\n",
    "d_text = pd.read_csv(path_train_test_text, encoding='UTF-8', keep_default_na = False)\n",
    "# Merge\n",
    "d = d.merge(d_text, on = \"ad_id\")"
   ]
  },
  {
   "cell_type": "code",
   "execution_count": 4,
   "metadata": {},
   "outputs": [],
   "source": [
    "# All fields\n",
    "cols = ['disclaimer', 'page_name', 'ad_creative_body', 'ad_creative_link_caption', 'ad_creative_link_description', 'ad_creative_link_title', 'aws_ocr_text', 'google_asr_text']\n",
    "d['combined'] = d[cols].apply(lambda row: ' '.join(row.values.astype(str)), axis=1)\n",
    "\n",
    "# Remove duplicate texts\n",
    "d = d.drop_duplicates(subset=['combined'])\n",
    "\n",
    "# Split by pd-id (previously assigned)\n",
    "train = d[d['split'] == 'train']\n",
    "test = d[d['split'] == 'test']"
   ]
  },
  {
   "cell_type": "markdown",
   "metadata": {},
   "source": [
    "### Create entity level dataframes"
   ]
  },
  {
   "cell_type": "code",
   "execution_count": 5,
   "metadata": {},
   "outputs": [
    {
     "name": "stdout",
     "output_type": "stream",
     "text": [
      "(2235, 2)\n"
     ]
    }
   ],
   "source": [
    "train_pdid = train.drop_duplicates(subset=['pd_id'], keep='last')\n",
    "train_pdid = train_pdid[['pd_id', 'party_all_usable']]\n",
    "print(train_pdid.shape)"
   ]
  },
  {
   "cell_type": "code",
   "execution_count": 6,
   "metadata": {},
   "outputs": [
    {
     "name": "stdout",
     "output_type": "stream",
     "text": [
      "(959, 2)\n"
     ]
    }
   ],
   "source": [
    "test_pdid = test.drop_duplicates(subset=['pd_id'], keep='last')\n",
    "test_pdid = test_pdid[['pd_id', 'party_all_usable']]\n",
    "print(test_pdid.shape)"
   ]
  },
  {
   "cell_type": "markdown",
   "metadata": {
    "id": "10uTZsb3lHf5"
   },
   "source": [
    "### Aggregate text to pd id level for training and test"
   ]
  },
  {
   "cell_type": "code",
   "execution_count": 7,
   "metadata": {
    "id": "SEegZoxUbmWQ"
   },
   "outputs": [],
   "source": [
    "d_pdid_txt = d.groupby(['pd_id'])['combined'].apply(lambda x: ' '.join(x)).reset_index()"
   ]
  },
  {
   "cell_type": "code",
   "execution_count": 8,
   "metadata": {
    "id": "wWkD5frVdq2P"
   },
   "outputs": [],
   "source": [
    "d_pdid_txt['text_length'] = d_pdid_txt['combined'].apply(len)"
   ]
  },
  {
   "cell_type": "code",
   "execution_count": 9,
   "metadata": {
    "colab": {
     "base_uri": "https://localhost:8080/",
     "height": 206
    },
    "id": "BD83ljcodpWD",
    "outputId": "3e586751-8aec-4531-a178-1a2dc5396182"
   },
   "outputs": [
    {
     "data": {
      "text/html": [
       "<div>\n",
       "<style scoped>\n",
       "    .dataframe tbody tr th:only-of-type {\n",
       "        vertical-align: middle;\n",
       "    }\n",
       "\n",
       "    .dataframe tbody tr th {\n",
       "        vertical-align: top;\n",
       "    }\n",
       "\n",
       "    .dataframe thead th {\n",
       "        text-align: right;\n",
       "    }\n",
       "</style>\n",
       "<table border=\"1\" class=\"dataframe\">\n",
       "  <thead>\n",
       "    <tr style=\"text-align: right;\">\n",
       "      <th></th>\n",
       "      <th>pd_id</th>\n",
       "      <th>combined</th>\n",
       "      <th>text_length</th>\n",
       "    </tr>\n",
       "  </thead>\n",
       "  <tbody>\n",
       "    <tr>\n",
       "      <th>0</th>\n",
       "      <td>pd-1000253160054572-4</td>\n",
       "      <td>CORI BUSH FOR CONGRESS Cori Bush This is not a...</td>\n",
       "      <td>53423</td>\n",
       "    </tr>\n",
       "    <tr>\n",
       "      <th>1</th>\n",
       "      <td>pd-100053898949-2</td>\n",
       "      <td>MONTANA REPUBLICAN STATE CENTRAL COMMITTEE Mon...</td>\n",
       "      <td>8118</td>\n",
       "    </tr>\n",
       "    <tr>\n",
       "      <th>2</th>\n",
       "      <td>pd-100125675072407-1</td>\n",
       "      <td>Drew-Montez Clark for State Rep District 80, R...</td>\n",
       "      <td>426</td>\n",
       "    </tr>\n",
       "    <tr>\n",
       "      <th>3</th>\n",
       "      <td>pd-100131284943324-1</td>\n",
       "      <td>LETLOW FOR CONGRESS Luke Letlow For Congress M...</td>\n",
       "      <td>7724</td>\n",
       "    </tr>\n",
       "    <tr>\n",
       "      <th>4</th>\n",
       "      <td>pd-100140741454415-2</td>\n",
       "      <td>BISH FOR CONGRESS 2020 Chris Bish for Congress...</td>\n",
       "      <td>4172</td>\n",
       "    </tr>\n",
       "  </tbody>\n",
       "</table>\n",
       "</div>"
      ],
      "text/plain": [
       "                   pd_id                                           combined  \\\n",
       "0  pd-1000253160054572-4  CORI BUSH FOR CONGRESS Cori Bush This is not a...   \n",
       "1      pd-100053898949-2  MONTANA REPUBLICAN STATE CENTRAL COMMITTEE Mon...   \n",
       "2   pd-100125675072407-1  Drew-Montez Clark for State Rep District 80, R...   \n",
       "3   pd-100131284943324-1  LETLOW FOR CONGRESS Luke Letlow For Congress M...   \n",
       "4   pd-100140741454415-2  BISH FOR CONGRESS 2020 Chris Bish for Congress...   \n",
       "\n",
       "   text_length  \n",
       "0        53423  \n",
       "1         8118  \n",
       "2          426  \n",
       "3         7724  \n",
       "4         4172  "
      ]
     },
     "execution_count": 9,
     "metadata": {},
     "output_type": "execute_result"
    }
   ],
   "source": [
    "d_pdid_txt.head()"
   ]
  },
  {
   "cell_type": "code",
   "execution_count": 10,
   "metadata": {
    "id": "Zgymqkj9eZAD"
   },
   "outputs": [],
   "source": [
    "train_pdid = train_pdid.merge(d_pdid_txt, how ='left', on='pd_id')"
   ]
  },
  {
   "cell_type": "code",
   "execution_count": 11,
   "metadata": {
    "id": "jvc8HfPpg27V"
   },
   "outputs": [],
   "source": [
    "test_pdid = test_pdid.merge(d_pdid_txt, how ='left', on='pd_id')"
   ]
  },
  {
   "cell_type": "markdown",
   "metadata": {},
   "source": [
    "### Models"
   ]
  },
  {
   "cell_type": "code",
   "execution_count": 12,
   "metadata": {},
   "outputs": [],
   "source": [
    "np.random.seed(123)"
   ]
  },
  {
   "cell_type": "markdown",
   "metadata": {
    "id": "NXr6YUg6hHhM"
   },
   "source": [
    "#### MultinomialNB"
   ]
  },
  {
   "cell_type": "code",
   "execution_count": 13,
   "metadata": {
    "id": "bjm-YQKEhZP9"
   },
   "outputs": [],
   "source": [
    "mnb_clf = Pipeline([\n",
    "    ('vect', CountVectorizer()),\n",
    "    ('tfidf', TfidfTransformer()),\n",
    "    ('clf', MultinomialNB()),\n",
    "])"
   ]
  },
  {
   "cell_type": "code",
   "execution_count": 14,
   "metadata": {
    "id": "GIJMISgmhb0h"
   },
   "outputs": [],
   "source": [
    "mnb_params = {\n",
    "    'vect__ngram_range': [(1, 1), (1, 2), (2, 2)],\n",
    "    'tfidf__use_idf': (True, False),\n",
    "    'tfidf__norm': ('l1', 'l2'),\n",
    "    'clf__alpha': [1, 1e-1, 1e-2]\n",
    "}"
   ]
  },
  {
   "cell_type": "code",
   "execution_count": 15,
   "metadata": {
    "id": "cLJazPwihetZ"
   },
   "outputs": [],
   "source": [
    "mnb_grid = GridSearchCV(mnb_clf, mnb_params, cv=5, n_jobs=-1)"
   ]
  },
  {
   "cell_type": "code",
   "execution_count": 16,
   "metadata": {
    "colab": {
     "base_uri": "https://localhost:8080/"
    },
    "id": "pTZgw6P7hgls",
    "outputId": "c0af8eea-0897-4068-9f89-bd58d16c647f"
   },
   "outputs": [
    {
     "data": {
      "text/plain": [
       "GridSearchCV(cv=5,\n",
       "             estimator=Pipeline(steps=[('vect', CountVectorizer()),\n",
       "                                       ('tfidf', TfidfTransformer()),\n",
       "                                       ('clf', MultinomialNB())]),\n",
       "             n_jobs=-1,\n",
       "             param_grid={'clf__alpha': [1, 0.1, 0.01],\n",
       "                         'tfidf__norm': ('l1', 'l2'),\n",
       "                         'tfidf__use_idf': (True, False),\n",
       "                         'vect__ngram_range': [(1, 1), (1, 2), (2, 2)]})"
      ]
     },
     "execution_count": 16,
     "metadata": {},
     "output_type": "execute_result"
    }
   ],
   "source": [
    "mnb_grid.fit(train_pdid['combined'], train_pdid['party_all_usable'])"
   ]
  },
  {
   "cell_type": "code",
   "execution_count": 17,
   "metadata": {
    "colab": {
     "base_uri": "https://localhost:8080/"
    },
    "id": "6b17R3IfhHRE",
    "outputId": "0377ae35-9c02-4ef7-cfab-513611cd2c7e"
   },
   "outputs": [
    {
     "name": "stdout",
     "output_type": "stream",
     "text": [
      "Best Params:  {'clf__alpha': 0.01, 'tfidf__norm': 'l2', 'tfidf__use_idf': False, 'vect__ngram_range': (2, 2)}\n"
     ]
    }
   ],
   "source": [
    "print(\"Best Params: \", mnb_grid.best_params_)"
   ]
  },
  {
   "cell_type": "code",
   "execution_count": 18,
   "metadata": {},
   "outputs": [
    {
     "name": "stdout",
     "output_type": "stream",
     "text": [
      "              precision    recall  f1-score   support\n",
      "\n",
      "         DEM      0.820     0.965     0.887       491\n",
      "       OTHER      1.000     0.068     0.128        44\n",
      "         REP      0.918     0.818     0.865       424\n",
      "\n",
      "    accuracy                          0.859       959\n",
      "   macro avg      0.913     0.617     0.627       959\n",
      "weighted avg      0.872     0.859     0.842       959\n",
      "\n"
     ]
    }
   ],
   "source": [
    "print(metrics.classification_report(test_pdid['party_all_usable'], mnb_grid.predict(test_pdid['combined']), digits = 3))"
   ]
  },
  {
   "cell_type": "code",
   "execution_count": 19,
   "metadata": {
    "colab": {
     "base_uri": "https://localhost:8080/"
    },
    "id": "3lTTx_HlLdTG",
    "outputId": "d5a4e652-6e70-46d1-cb29-845dcce98276"
   },
   "outputs": [
    {
     "data": {
      "text/plain": [
       "['models/party_clf_pdid_mnb.joblib']"
      ]
     },
     "execution_count": 19,
     "metadata": {},
     "output_type": "execute_result"
    }
   ],
   "source": [
    "dump(mnb_grid, 'models/party_clf_pdid_mnb.joblib')"
   ]
  },
  {
   "cell_type": "markdown",
   "metadata": {
    "id": "SC2kz0oCijdM"
   },
   "source": [
    "#### Logistic regression"
   ]
  },
  {
   "cell_type": "code",
   "execution_count": 20,
   "metadata": {
    "id": "0PHxIOvLilPq"
   },
   "outputs": [],
   "source": [
    "lr_clf = Pipeline([('vect', CountVectorizer()),\n",
    "                ('tfidf', TfidfTransformer()),\n",
    "                ('clf', LogisticRegression(max_iter=500)),\n",
    "               ])"
   ]
  },
  {
   "cell_type": "code",
   "execution_count": 21,
   "metadata": {
    "id": "CQ0lvjkvinyQ"
   },
   "outputs": [],
   "source": [
    "lr_params = [{'clf__penalty': ['l2'],\n",
    "        'clf__C': [0.001, 0.01, 0.1, 1, 10, 100, 1000],\n",
    "        'clf__solver': ['newton-cg']}] "
   ]
  },
  {
   "cell_type": "code",
   "execution_count": 22,
   "metadata": {
    "id": "zFVu7XDdiprF"
   },
   "outputs": [],
   "source": [
    "lr_grid = GridSearchCV(lr_clf, lr_params, cv=5, n_jobs=-1) "
   ]
  },
  {
   "cell_type": "code",
   "execution_count": 23,
   "metadata": {
    "colab": {
     "base_uri": "https://localhost:8080/"
    },
    "id": "fvHXuWp7isg1",
    "outputId": "62cbabce-564f-4e83-d98e-f0de0af71823"
   },
   "outputs": [
    {
     "data": {
      "text/plain": [
       "GridSearchCV(cv=5,\n",
       "             estimator=Pipeline(steps=[('vect', CountVectorizer()),\n",
       "                                       ('tfidf', TfidfTransformer()),\n",
       "                                       ('clf',\n",
       "                                        LogisticRegression(max_iter=500))]),\n",
       "             n_jobs=-1,\n",
       "             param_grid=[{'clf__C': [0.001, 0.01, 0.1, 1, 10, 100, 1000],\n",
       "                          'clf__penalty': ['l2'],\n",
       "                          'clf__solver': ['newton-cg']}])"
      ]
     },
     "execution_count": 23,
     "metadata": {},
     "output_type": "execute_result"
    }
   ],
   "source": [
    "lr_grid.fit(train_pdid['combined'], train_pdid['party_all_usable'])"
   ]
  },
  {
   "cell_type": "code",
   "execution_count": 24,
   "metadata": {
    "colab": {
     "base_uri": "https://localhost:8080/"
    },
    "id": "L1mgO6Z3JRZS",
    "outputId": "1278a64e-7121-413f-88f9-145e1f04c94b"
   },
   "outputs": [
    {
     "name": "stdout",
     "output_type": "stream",
     "text": [
      "Best Params:  {'clf__C': 100, 'clf__penalty': 'l2', 'clf__solver': 'newton-cg'}\n"
     ]
    }
   ],
   "source": [
    "print(\"Best Params: \", lr_grid.best_params_)"
   ]
  },
  {
   "cell_type": "code",
   "execution_count": 25,
   "metadata": {},
   "outputs": [
    {
     "name": "stdout",
     "output_type": "stream",
     "text": [
      "              precision    recall  f1-score   support\n",
      "\n",
      "         DEM      0.845     0.900     0.872       491\n",
      "       OTHER      0.800     0.364     0.500        44\n",
      "         REP      0.856     0.840     0.848       424\n",
      "\n",
      "    accuracy                          0.849       959\n",
      "   macro avg      0.834     0.701     0.740       959\n",
      "weighted avg      0.848     0.849     0.844       959\n",
      "\n"
     ]
    }
   ],
   "source": [
    "print(metrics.classification_report(test_pdid['party_all_usable'], lr_grid.predict(test_pdid['combined']), digits = 3))"
   ]
  },
  {
   "cell_type": "code",
   "execution_count": 26,
   "metadata": {
    "colab": {
     "base_uri": "https://localhost:8080/"
    },
    "id": "O5N97b9VILYO",
    "outputId": "46c2dc64-bca1-4742-ecb0-356145579589"
   },
   "outputs": [
    {
     "data": {
      "text/plain": [
       "['models/party_clf_pdid_logit.joblib']"
      ]
     },
     "execution_count": 26,
     "metadata": {},
     "output_type": "execute_result"
    }
   ],
   "source": [
    "dump(lr_grid, 'models/party_clf_pdid_logit.joblib')"
   ]
  },
  {
   "cell_type": "markdown",
   "metadata": {
    "id": "YU1OAPO-Is5f"
   },
   "source": [
    "#### SVM"
   ]
  },
  {
   "cell_type": "code",
   "execution_count": 27,
   "metadata": {
    "id": "PPUrQmIoI53N"
   },
   "outputs": [],
   "source": [
    "svm_clf = Pipeline([\n",
    "    ('vect', CountVectorizer()),\n",
    "    ('tfidf', TfidfTransformer()),\n",
    "    ('clf', SGDClassifier())])"
   ]
  },
  {
   "cell_type": "code",
   "execution_count": 28,
   "metadata": {
    "id": "1lmccuXaI8Hu"
   },
   "outputs": [],
   "source": [
    "svm_params = {\n",
    "    'vect__ngram_range': [(1, 1), (1, 2)],\n",
    "    'tfidf__use_idf': (True, False),\n",
    "    'clf__alpha': (1e-2, 1e-3),\n",
    "}"
   ]
  },
  {
   "cell_type": "code",
   "execution_count": 29,
   "metadata": {
    "id": "yspsbq2kI-Vs"
   },
   "outputs": [],
   "source": [
    "svm_grid = GridSearchCV(svm_clf, svm_params, cv=5, n_jobs=-1)"
   ]
  },
  {
   "cell_type": "code",
   "execution_count": 30,
   "metadata": {
    "colab": {
     "base_uri": "https://localhost:8080/"
    },
    "id": "slWGi1jvJA-b",
    "outputId": "1fd3555d-2e07-4076-f5e3-574b6c6a32d6"
   },
   "outputs": [
    {
     "data": {
      "text/plain": [
       "GridSearchCV(cv=5,\n",
       "             estimator=Pipeline(steps=[('vect', CountVectorizer()),\n",
       "                                       ('tfidf', TfidfTransformer()),\n",
       "                                       ('clf', SGDClassifier())]),\n",
       "             n_jobs=-1,\n",
       "             param_grid={'clf__alpha': (0.01, 0.001),\n",
       "                         'tfidf__use_idf': (True, False),\n",
       "                         'vect__ngram_range': [(1, 1), (1, 2)]})"
      ]
     },
     "execution_count": 30,
     "metadata": {},
     "output_type": "execute_result"
    }
   ],
   "source": [
    "svm_grid.fit(train_pdid['combined'], train_pdid['party_all_usable'])"
   ]
  },
  {
   "cell_type": "code",
   "execution_count": 31,
   "metadata": {
    "colab": {
     "base_uri": "https://localhost:8080/"
    },
    "id": "qCpOAcELJXsY",
    "outputId": "9b7540c1-1471-40ce-ebec-c411e92162a6"
   },
   "outputs": [
    {
     "name": "stdout",
     "output_type": "stream",
     "text": [
      "Best Params:  {'clf__alpha': 0.001, 'tfidf__use_idf': False, 'vect__ngram_range': (1, 2)}\n"
     ]
    }
   ],
   "source": [
    "print(\"Best Params: \", svm_grid.best_params_)"
   ]
  },
  {
   "cell_type": "code",
   "execution_count": 32,
   "metadata": {},
   "outputs": [
    {
     "name": "stdout",
     "output_type": "stream",
     "text": [
      "              precision    recall  f1-score   support\n",
      "\n",
      "         DEM      0.834     0.943     0.885       491\n",
      "       OTHER      1.000     0.045     0.087        44\n",
      "         REP      0.881     0.835     0.857       424\n",
      "\n",
      "    accuracy                          0.854       959\n",
      "   macro avg      0.905     0.608     0.610       959\n",
      "weighted avg      0.862     0.854     0.836       959\n",
      "\n"
     ]
    }
   ],
   "source": [
    "print(metrics.classification_report(test_pdid['party_all_usable'], svm_grid.predict(test_pdid['combined']), digits = 3))"
   ]
  },
  {
   "cell_type": "code",
   "execution_count": 33,
   "metadata": {
    "colab": {
     "base_uri": "https://localhost:8080/"
    },
    "id": "Y00AlYKtJcr6",
    "outputId": "e8b2bab3-b452-4da8-f152-9c7da76a9370"
   },
   "outputs": [
    {
     "data": {
      "text/plain": [
       "['models/party_clf_pdid_svm.joblib']"
      ]
     },
     "execution_count": 33,
     "metadata": {},
     "output_type": "execute_result"
    }
   ],
   "source": [
    "dump(svm_grid, 'models/party_clf_pdid_svm.joblib')"
   ]
  },
  {
   "cell_type": "markdown",
   "metadata": {},
   "source": [
    "#### Random Forest (Best classifier)"
   ]
  },
  {
   "cell_type": "code",
   "execution_count": 34,
   "metadata": {},
   "outputs": [],
   "source": [
    "rf_clf = Pipeline([\n",
    "    ('vect', CountVectorizer()),\n",
    "    ('tfidf', TfidfTransformer()),\n",
    "    (\"clf\", RandomForestClassifier())\n",
    "])"
   ]
  },
  {
   "cell_type": "code",
   "execution_count": 35,
   "metadata": {},
   "outputs": [],
   "source": [
    "rf_params = {\n",
    "    'clf__n_estimators': [5,50,100,500],\n",
    "    'clf__max_depth': [1, 5, 10, 25],\n",
    "    'clf__max_features': [*np.arange(0.1, 1.1, 0.1)],\n",
    "}"
   ]
  },
  {
   "cell_type": "code",
   "execution_count": 36,
   "metadata": {},
   "outputs": [],
   "source": [
    "rf_grid = GridSearchCV(rf_clf, rf_params, cv=5, n_jobs=-1)"
   ]
  },
  {
   "cell_type": "code",
   "execution_count": 37,
   "metadata": {},
   "outputs": [
    {
     "data": {
      "text/plain": [
       "GridSearchCV(cv=5,\n",
       "             estimator=Pipeline(steps=[('vect', CountVectorizer()),\n",
       "                                       ('tfidf', TfidfTransformer()),\n",
       "                                       ('clf', RandomForestClassifier())]),\n",
       "             n_jobs=-1,\n",
       "             param_grid={'clf__max_depth': [1, 5, 10, 25],\n",
       "                         'clf__max_features': [0.1, 0.2, 0.30000000000000004,\n",
       "                                               0.4, 0.5, 0.6,\n",
       "                                               0.7000000000000001, 0.8, 0.9,\n",
       "                                               1.0],\n",
       "                         'clf__n_estimators': [5, 50, 100, 500]})"
      ]
     },
     "execution_count": 37,
     "metadata": {},
     "output_type": "execute_result"
    }
   ],
   "source": [
    "rf_grid.fit(train_pdid['combined'], train_pdid['party_all_usable'])"
   ]
  },
  {
   "cell_type": "code",
   "execution_count": 38,
   "metadata": {},
   "outputs": [
    {
     "name": "stdout",
     "output_type": "stream",
     "text": [
      "Best Params:  {'clf__max_depth': 25, 'clf__max_features': 0.1, 'clf__n_estimators': 500}\n"
     ]
    }
   ],
   "source": [
    "print(\"Best Params: \", rf_grid.best_params_)"
   ]
  },
  {
   "cell_type": "code",
   "execution_count": 39,
   "metadata": {},
   "outputs": [
    {
     "name": "stdout",
     "output_type": "stream",
     "text": [
      "              precision    recall  f1-score   support\n",
      "\n",
      "         DEM      0.843     0.941     0.889       491\n",
      "       OTHER      1.000     0.091     0.167        44\n",
      "         REP      0.887     0.851     0.869       424\n",
      "\n",
      "    accuracy                          0.862       959\n",
      "   macro avg      0.910     0.628     0.642       959\n",
      "weighted avg      0.870     0.862     0.847       959\n",
      "\n"
     ]
    }
   ],
   "source": [
    "print(metrics.classification_report(test_pdid['party_all_usable'], rf_grid.predict(test_pdid['combined']), digits = 3))"
   ]
  },
  {
   "cell_type": "code",
   "execution_count": 40,
   "metadata": {},
   "outputs": [
    {
     "data": {
      "text/plain": [
       "['models/party_clf_pdid_rf.joblib']"
      ]
     },
     "execution_count": 40,
     "metadata": {},
     "output_type": "execute_result"
    }
   ],
   "source": [
    "dump(rf_grid, 'models/party_clf_pdid_rf.joblib')"
   ]
  }
 ],
 "metadata": {
  "colab": {
   "name": "party_clf_entity_06142022.ipynb",
   "provenance": [],
   "toc_visible": true
  },
  "kernelspec": {
   "display_name": "Python 3",
   "language": "python",
   "name": "python3"
  },
  "language_info": {
   "codemirror_mode": {
    "name": "ipython",
    "version": 3
   },
   "file_extension": ".py",
   "mimetype": "text/x-python",
   "name": "python",
   "nbconvert_exporter": "python",
   "pygments_lexer": "ipython3",
   "version": "3.7.7"
  }
 },
 "nbformat": 4,
 "nbformat_minor": 1
}
